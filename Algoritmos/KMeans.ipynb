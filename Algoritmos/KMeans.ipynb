{
  "nbformat": 4,
  "nbformat_minor": 0,
  "metadata": {
    "colab": {
      "name": "IN_T2.ipynb",
      "provenance": [],
      "collapsed_sections": []
    },
    "kernelspec": {
      "name": "python3",
      "display_name": "Python 3"
    },
    "language_info": {
      "name": "python"
    }
  },
  "cells": [
    {
      "cell_type": "markdown",
      "metadata": {
        "id": "l3gOk9bsltLM"
      },
      "source": [
        "##**@Imports**"
      ]
    },
    {
      "cell_type": "code",
      "metadata": {
        "id": "V-_NGegolMTa"
      },
      "source": [
        "import pandas as pd\n",
        "import numpy as np\n",
        "from matplotlib import pyplot as plt\n",
        "from sklearn.cluster import KMeans\n",
        "import seaborn as sns"
      ],
      "execution_count": null,
      "outputs": []
    },
    {
      "cell_type": "markdown",
      "metadata": {
        "id": "TizHM39TGwOH"
      },
      "source": [
        "##**@Funções**"
      ]
    },
    {
      "cell_type": "markdown",
      "metadata": {
        "id": "3c4eCq7_lQHu"
      },
      "source": [
        "## **@Upload da Base de Dados**\n",
        "\n",
        "\n"
      ]
    },
    {
      "cell_type": "code",
      "metadata": {
        "id": "n7l2CEc_leMN"
      },
      "source": [
        "dermatologyDb = pd.read_csv('dermatology.data',sep=',');\n",
        "#dermatologyDb"
      ],
      "execution_count": null,
      "outputs": []
    },
    {
      "cell_type": "markdown",
      "metadata": {
        "id": "JeFF43jNnulm"
      },
      "source": [
        "##**@Pré-Processamento dos dados**\n"
      ]
    },
    {
      "cell_type": "code",
      "metadata": {
        "id": "iWdeM4L5n0GX"
      },
      "source": [
        "#Informação do dataset\n",
        "dermatologyDb.info()"
      ],
      "execution_count": null,
      "outputs": []
    },
    {
      "cell_type": "code",
      "metadata": {
        "id": "QTXQm4HppeD6"
      },
      "source": [
        "#Removendo Idade fora do range e removendo strings da Idade.\n",
        "dbAux = dermatologyDb[dermatologyDb[\"age\"]!= \"?\"]\n",
        "dbAux.fillna(method='bfill')\n",
        "dermatologyDb.age.replace({\"?\":int(dbAux.age.median())},inplace = True)"
      ],
      "execution_count": null,
      "outputs": []
    },
    {
      "cell_type": "code",
      "metadata": {
        "id": "eOVoiXZ3rxmn",
        "colab": {
          "base_uri": "https://localhost:8080/",
          "height": 317
        },
        "outputId": "f3eb2d89-e3a9-42a6-91f5-21ec5ce67591"
      },
      "source": [
        "#Verificação de Propriedades\n",
        "dermatologyDb.describe()"
      ],
      "execution_count": null,
      "outputs": [
        {
          "output_type": "execute_result",
          "data": {
            "text/html": [
              "<div>\n",
              "<style scoped>\n",
              "    .dataframe tbody tr th:only-of-type {\n",
              "        vertical-align: middle;\n",
              "    }\n",
              "\n",
              "    .dataframe tbody tr th {\n",
              "        vertical-align: top;\n",
              "    }\n",
              "\n",
              "    .dataframe thead th {\n",
              "        text-align: right;\n",
              "    }\n",
              "</style>\n",
              "<table border=\"1\" class=\"dataframe\">\n",
              "  <thead>\n",
              "    <tr style=\"text-align: right;\">\n",
              "      <th></th>\n",
              "      <th>2</th>\n",
              "      <th>2.1</th>\n",
              "      <th>0</th>\n",
              "      <th>3</th>\n",
              "      <th>0.1</th>\n",
              "      <th>0.2</th>\n",
              "      <th>0.3</th>\n",
              "      <th>0.4</th>\n",
              "      <th>1</th>\n",
              "      <th>0.5</th>\n",
              "      <th>0.6</th>\n",
              "      <th>0.7</th>\n",
              "      <th>0.8</th>\n",
              "      <th>0.9</th>\n",
              "      <th>0.10</th>\n",
              "      <th>3.1</th>\n",
              "      <th>2.2</th>\n",
              "      <th>0.11</th>\n",
              "      <th>0.12</th>\n",
              "      <th>0.13</th>\n",
              "      <th>0.14</th>\n",
              "      <th>0.15</th>\n",
              "      <th>0.16</th>\n",
              "      <th>0.17</th>\n",
              "      <th>0.18</th>\n",
              "      <th>0.19</th>\n",
              "      <th>0.20</th>\n",
              "      <th>3.2</th>\n",
              "      <th>0.21</th>\n",
              "      <th>0.22</th>\n",
              "      <th>0.23</th>\n",
              "      <th>1.1</th>\n",
              "      <th>0.24</th>\n",
              "      <th>2.3</th>\n",
              "    </tr>\n",
              "  </thead>\n",
              "  <tbody>\n",
              "    <tr>\n",
              "      <th>count</th>\n",
              "      <td>365.000000</td>\n",
              "      <td>365.000000</td>\n",
              "      <td>365.000000</td>\n",
              "      <td>365.000000</td>\n",
              "      <td>365.000000</td>\n",
              "      <td>365.000000</td>\n",
              "      <td>365.000000</td>\n",
              "      <td>365.000000</td>\n",
              "      <td>365.000000</td>\n",
              "      <td>365.000000</td>\n",
              "      <td>365.000000</td>\n",
              "      <td>365.000000</td>\n",
              "      <td>365.000000</td>\n",
              "      <td>365.000000</td>\n",
              "      <td>365.000000</td>\n",
              "      <td>365.000000</td>\n",
              "      <td>365.000000</td>\n",
              "      <td>365.000000</td>\n",
              "      <td>365.000000</td>\n",
              "      <td>365.000000</td>\n",
              "      <td>365.000000</td>\n",
              "      <td>365.000000</td>\n",
              "      <td>365.00000</td>\n",
              "      <td>365.000000</td>\n",
              "      <td>365.000000</td>\n",
              "      <td>365.000000</td>\n",
              "      <td>365.000000</td>\n",
              "      <td>365.000000</td>\n",
              "      <td>365.000000</td>\n",
              "      <td>365.000000</td>\n",
              "      <td>365.000000</td>\n",
              "      <td>365.000000</td>\n",
              "      <td>365.000000</td>\n",
              "      <td>365.000000</td>\n",
              "    </tr>\n",
              "    <tr>\n",
              "      <th>mean</th>\n",
              "      <td>2.068493</td>\n",
              "      <td>1.794521</td>\n",
              "      <td>1.553425</td>\n",
              "      <td>1.361644</td>\n",
              "      <td>0.635616</td>\n",
              "      <td>0.449315</td>\n",
              "      <td>0.167123</td>\n",
              "      <td>0.378082</td>\n",
              "      <td>0.613699</td>\n",
              "      <td>0.520548</td>\n",
              "      <td>0.126027</td>\n",
              "      <td>0.405479</td>\n",
              "      <td>0.139726</td>\n",
              "      <td>0.547945</td>\n",
              "      <td>0.336986</td>\n",
              "      <td>1.364384</td>\n",
              "      <td>1.956164</td>\n",
              "      <td>0.528767</td>\n",
              "      <td>1.293151</td>\n",
              "      <td>0.665753</td>\n",
              "      <td>0.994521</td>\n",
              "      <td>0.635616</td>\n",
              "      <td>0.29589</td>\n",
              "      <td>0.364384</td>\n",
              "      <td>0.394521</td>\n",
              "      <td>0.465753</td>\n",
              "      <td>0.457534</td>\n",
              "      <td>0.947945</td>\n",
              "      <td>0.454795</td>\n",
              "      <td>0.104110</td>\n",
              "      <td>0.115068</td>\n",
              "      <td>1.868493</td>\n",
              "      <td>0.556164</td>\n",
              "      <td>2.805479</td>\n",
              "    </tr>\n",
              "    <tr>\n",
              "      <th>std</th>\n",
              "      <td>0.665656</td>\n",
              "      <td>0.702408</td>\n",
              "      <td>0.905126</td>\n",
              "      <td>1.136632</td>\n",
              "      <td>0.908653</td>\n",
              "      <td>0.958353</td>\n",
              "      <td>0.571304</td>\n",
              "      <td>0.835057</td>\n",
              "      <td>0.984120</td>\n",
              "      <td>0.906472</td>\n",
              "      <td>0.332336</td>\n",
              "      <td>0.870753</td>\n",
              "      <td>0.412290</td>\n",
              "      <td>0.816066</td>\n",
              "      <td>0.854128</td>\n",
              "      <td>1.102616</td>\n",
              "      <td>0.713486</td>\n",
              "      <td>0.757650</td>\n",
              "      <td>0.916325</td>\n",
              "      <td>1.057706</td>\n",
              "      <td>1.162591</td>\n",
              "      <td>1.035811</td>\n",
              "      <td>0.67132</td>\n",
              "      <td>0.760525</td>\n",
              "      <td>0.850322</td>\n",
              "      <td>0.865743</td>\n",
              "      <td>0.955884</td>\n",
              "      <td>1.126615</td>\n",
              "      <td>0.955758</td>\n",
              "      <td>0.451018</td>\n",
              "      <td>0.489357</td>\n",
              "      <td>0.725682</td>\n",
              "      <td>1.107044</td>\n",
              "      <td>1.599441</td>\n",
              "    </tr>\n",
              "    <tr>\n",
              "      <th>min</th>\n",
              "      <td>0.000000</td>\n",
              "      <td>0.000000</td>\n",
              "      <td>0.000000</td>\n",
              "      <td>0.000000</td>\n",
              "      <td>0.000000</td>\n",
              "      <td>0.000000</td>\n",
              "      <td>0.000000</td>\n",
              "      <td>0.000000</td>\n",
              "      <td>0.000000</td>\n",
              "      <td>0.000000</td>\n",
              "      <td>0.000000</td>\n",
              "      <td>0.000000</td>\n",
              "      <td>0.000000</td>\n",
              "      <td>0.000000</td>\n",
              "      <td>0.000000</td>\n",
              "      <td>0.000000</td>\n",
              "      <td>0.000000</td>\n",
              "      <td>0.000000</td>\n",
              "      <td>0.000000</td>\n",
              "      <td>0.000000</td>\n",
              "      <td>0.000000</td>\n",
              "      <td>0.000000</td>\n",
              "      <td>0.00000</td>\n",
              "      <td>0.000000</td>\n",
              "      <td>0.000000</td>\n",
              "      <td>0.000000</td>\n",
              "      <td>0.000000</td>\n",
              "      <td>0.000000</td>\n",
              "      <td>0.000000</td>\n",
              "      <td>0.000000</td>\n",
              "      <td>0.000000</td>\n",
              "      <td>0.000000</td>\n",
              "      <td>0.000000</td>\n",
              "      <td>1.000000</td>\n",
              "    </tr>\n",
              "    <tr>\n",
              "      <th>25%</th>\n",
              "      <td>2.000000</td>\n",
              "      <td>1.000000</td>\n",
              "      <td>1.000000</td>\n",
              "      <td>0.000000</td>\n",
              "      <td>0.000000</td>\n",
              "      <td>0.000000</td>\n",
              "      <td>0.000000</td>\n",
              "      <td>0.000000</td>\n",
              "      <td>0.000000</td>\n",
              "      <td>0.000000</td>\n",
              "      <td>0.000000</td>\n",
              "      <td>0.000000</td>\n",
              "      <td>0.000000</td>\n",
              "      <td>0.000000</td>\n",
              "      <td>0.000000</td>\n",
              "      <td>0.000000</td>\n",
              "      <td>2.000000</td>\n",
              "      <td>0.000000</td>\n",
              "      <td>1.000000</td>\n",
              "      <td>0.000000</td>\n",
              "      <td>0.000000</td>\n",
              "      <td>0.000000</td>\n",
              "      <td>0.00000</td>\n",
              "      <td>0.000000</td>\n",
              "      <td>0.000000</td>\n",
              "      <td>0.000000</td>\n",
              "      <td>0.000000</td>\n",
              "      <td>0.000000</td>\n",
              "      <td>0.000000</td>\n",
              "      <td>0.000000</td>\n",
              "      <td>0.000000</td>\n",
              "      <td>1.000000</td>\n",
              "      <td>0.000000</td>\n",
              "      <td>1.000000</td>\n",
              "    </tr>\n",
              "    <tr>\n",
              "      <th>50%</th>\n",
              "      <td>2.000000</td>\n",
              "      <td>2.000000</td>\n",
              "      <td>2.000000</td>\n",
              "      <td>1.000000</td>\n",
              "      <td>0.000000</td>\n",
              "      <td>0.000000</td>\n",
              "      <td>0.000000</td>\n",
              "      <td>0.000000</td>\n",
              "      <td>0.000000</td>\n",
              "      <td>0.000000</td>\n",
              "      <td>0.000000</td>\n",
              "      <td>0.000000</td>\n",
              "      <td>0.000000</td>\n",
              "      <td>0.000000</td>\n",
              "      <td>0.000000</td>\n",
              "      <td>2.000000</td>\n",
              "      <td>2.000000</td>\n",
              "      <td>0.000000</td>\n",
              "      <td>1.000000</td>\n",
              "      <td>0.000000</td>\n",
              "      <td>0.000000</td>\n",
              "      <td>0.000000</td>\n",
              "      <td>0.00000</td>\n",
              "      <td>0.000000</td>\n",
              "      <td>0.000000</td>\n",
              "      <td>0.000000</td>\n",
              "      <td>0.000000</td>\n",
              "      <td>0.000000</td>\n",
              "      <td>0.000000</td>\n",
              "      <td>0.000000</td>\n",
              "      <td>0.000000</td>\n",
              "      <td>2.000000</td>\n",
              "      <td>0.000000</td>\n",
              "      <td>3.000000</td>\n",
              "    </tr>\n",
              "    <tr>\n",
              "      <th>75%</th>\n",
              "      <td>2.000000</td>\n",
              "      <td>2.000000</td>\n",
              "      <td>2.000000</td>\n",
              "      <td>2.000000</td>\n",
              "      <td>1.000000</td>\n",
              "      <td>0.000000</td>\n",
              "      <td>0.000000</td>\n",
              "      <td>0.000000</td>\n",
              "      <td>1.000000</td>\n",
              "      <td>1.000000</td>\n",
              "      <td>0.000000</td>\n",
              "      <td>0.000000</td>\n",
              "      <td>0.000000</td>\n",
              "      <td>1.000000</td>\n",
              "      <td>0.000000</td>\n",
              "      <td>2.000000</td>\n",
              "      <td>2.000000</td>\n",
              "      <td>1.000000</td>\n",
              "      <td>2.000000</td>\n",
              "      <td>2.000000</td>\n",
              "      <td>2.000000</td>\n",
              "      <td>1.000000</td>\n",
              "      <td>0.00000</td>\n",
              "      <td>0.000000</td>\n",
              "      <td>0.000000</td>\n",
              "      <td>1.000000</td>\n",
              "      <td>0.000000</td>\n",
              "      <td>2.000000</td>\n",
              "      <td>0.000000</td>\n",
              "      <td>0.000000</td>\n",
              "      <td>0.000000</td>\n",
              "      <td>2.000000</td>\n",
              "      <td>0.000000</td>\n",
              "      <td>4.000000</td>\n",
              "    </tr>\n",
              "    <tr>\n",
              "      <th>max</th>\n",
              "      <td>3.000000</td>\n",
              "      <td>3.000000</td>\n",
              "      <td>3.000000</td>\n",
              "      <td>3.000000</td>\n",
              "      <td>3.000000</td>\n",
              "      <td>3.000000</td>\n",
              "      <td>3.000000</td>\n",
              "      <td>3.000000</td>\n",
              "      <td>3.000000</td>\n",
              "      <td>3.000000</td>\n",
              "      <td>1.000000</td>\n",
              "      <td>3.000000</td>\n",
              "      <td>2.000000</td>\n",
              "      <td>3.000000</td>\n",
              "      <td>3.000000</td>\n",
              "      <td>3.000000</td>\n",
              "      <td>3.000000</td>\n",
              "      <td>3.000000</td>\n",
              "      <td>3.000000</td>\n",
              "      <td>3.000000</td>\n",
              "      <td>3.000000</td>\n",
              "      <td>3.000000</td>\n",
              "      <td>3.00000</td>\n",
              "      <td>3.000000</td>\n",
              "      <td>3.000000</td>\n",
              "      <td>3.000000</td>\n",
              "      <td>3.000000</td>\n",
              "      <td>3.000000</td>\n",
              "      <td>3.000000</td>\n",
              "      <td>3.000000</td>\n",
              "      <td>3.000000</td>\n",
              "      <td>3.000000</td>\n",
              "      <td>3.000000</td>\n",
              "      <td>6.000000</td>\n",
              "    </tr>\n",
              "  </tbody>\n",
              "</table>\n",
              "</div>"
            ],
            "text/plain": [
              "                2         2.1           0  ...         1.1        0.24         2.3\n",
              "count  365.000000  365.000000  365.000000  ...  365.000000  365.000000  365.000000\n",
              "mean     2.068493    1.794521    1.553425  ...    1.868493    0.556164    2.805479\n",
              "std      0.665656    0.702408    0.905126  ...    0.725682    1.107044    1.599441\n",
              "min      0.000000    0.000000    0.000000  ...    0.000000    0.000000    1.000000\n",
              "25%      2.000000    1.000000    1.000000  ...    1.000000    0.000000    1.000000\n",
              "50%      2.000000    2.000000    2.000000  ...    2.000000    0.000000    3.000000\n",
              "75%      2.000000    2.000000    2.000000  ...    2.000000    0.000000    4.000000\n",
              "max      3.000000    3.000000    3.000000  ...    3.000000    3.000000    6.000000\n",
              "\n",
              "[8 rows x 34 columns]"
            ]
          },
          "metadata": {},
          "execution_count": 8
        }
      ]
    },
    {
      "cell_type": "code",
      "metadata": {
        "id": "qusKKvpwsWNg"
      },
      "source": [
        "#Removendo todos nulos\n",
        "dermatologyDb.dropna()\n"
      ],
      "execution_count": null,
      "outputs": []
    },
    {
      "cell_type": "markdown",
      "metadata": {
        "id": "c3s-RJD03vZr"
      },
      "source": [
        "##**@Aplicação do KMeans**"
      ]
    },
    {
      "cell_type": "code",
      "metadata": {
        "id": "SvNNW9gtdQ7l"
      },
      "source": [
        ""
      ],
      "execution_count": null,
      "outputs": []
    },
    {
      "cell_type": "code",
      "metadata": {
        "id": "WZGkVOwlGR0A"
      },
      "source": [
        "#Instaciação KMeans\n",
        "kmeans = KMeans(n_clusters=6,random_state=0,max_iter=10000000,)"
      ],
      "execution_count": null,
      "outputs": []
    },
    {
      "cell_type": "markdown",
      "metadata": {
        "id": "1JTp20yrGG3n"
      },
      "source": [
        "###@Aplicação com todas características"
      ]
    },
    {
      "cell_type": "code",
      "metadata": {
        "id": "vtBenefCAVRX",
        "colab": {
          "base_uri": "https://localhost:8080/"
        },
        "outputId": "7a90c69c-6a8d-429c-a094-5ccdf0a6dcc8"
      },
      "source": [
        "#Separando somente as características de cada Paciente. \n",
        "X = np.array(dermatologyDb.drop('target',axis = 1))\n",
        "kmeans.fit(X)\n",
        "dtResultKMeans = dermatologyDb.copy()\n",
        "dtResultKMeans['Results'] = kmeans.labels_\n",
        "dtAux = dtResultKMeans[dtResultKMeans['target']==dtResultKMeans['Results']]\n",
        "precisao = len(dtAux)/len(dtResultKMeans)\n",
        "print(precisao)\n",
        "#print(precisao(dtResultKMeans,'target','Results'))\n"
      ],
      "execution_count": null,
      "outputs": [
        {
          "output_type": "stream",
          "text": [
            "0.1284153005464481\n"
          ],
          "name": "stdout"
        }
      ]
    },
    {
      "cell_type": "markdown",
      "metadata": {
        "id": "gT8RY8mlNF8y"
      },
      "source": [
        "####@Plot"
      ]
    },
    {
      "cell_type": "code",
      "metadata": {
        "id": "ttw_rmrtPF6z"
      },
      "source": [
        "#Distribuição Sem K-Means\n",
        "#sns.pairplot(dermatologyDb,hue='target')"
      ],
      "execution_count": null,
      "outputs": []
    },
    {
      "cell_type": "code",
      "metadata": {
        "id": "A-BF_RGyNIFe"
      },
      "source": [
        "#Distribuição K-Means\n",
        "#sns.pairplot(dtResultKMeans,hue='Results')"
      ],
      "execution_count": null,
      "outputs": []
    },
    {
      "cell_type": "markdown",
      "metadata": {
        "id": "4fV-kVhJKnyW"
      },
      "source": [
        "###@Aplicação com características Clínicas"
      ]
    },
    {
      "cell_type": "code",
      "metadata": {
        "colab": {
          "base_uri": "https://localhost:8080/"
        },
        "id": "MKQw3gWhKtP6",
        "outputId": "d23213e2-a05f-4541-bcc6-5a7a17407917"
      },
      "source": [
        "#Separando somente as características Clínicas de cada Paciente. \n",
        "X = np.array((dermatologyDb.drop(dermatologyDb.columns[12:33],axis = 1)).drop(columns=['target'],axis = 1))\n",
        "kmeans.fit(X)\n",
        "dtResultKMeans = dermatologyDb.copy()\n",
        "dtResultKMeans['Results'] = kmeans.labels_\n",
        "dtAux = dtResultKMeans[dtResultKMeans['target']==dtResultKMeans['Results']]\n",
        "precisao = len(dtAux)/len(dtResultKMeans)\n",
        "print(precisao)"
      ],
      "execution_count": null,
      "outputs": [
        {
          "output_type": "stream",
          "text": [
            "0.20765027322404372\n"
          ],
          "name": "stdout"
        }
      ]
    },
    {
      "cell_type": "markdown",
      "metadata": {
        "id": "3-A0vQLuOx3p"
      },
      "source": [
        "####@Plot"
      ]
    },
    {
      "cell_type": "code",
      "metadata": {
        "id": "sv9IDYmZPUHy"
      },
      "source": [
        "#Distribuição Sem K-Means\n",
        "#sns.pairplot((dermatologyDb.drop(dermatologyDb.columns[12:33],axis = 1)).drop(columns=['target'],axis = 1),hue='target')"
      ],
      "execution_count": null,
      "outputs": []
    },
    {
      "cell_type": "code",
      "metadata": {
        "id": "zy3j9SyeOx3w",
        "outputId": "76e171d9-59a9-44cc-823a-4ee6b01d577b",
        "colab": {
          "base_uri": "https://localhost:8080/",
          "height": 182
        }
      },
      "source": [
        "#Distribuição K-Means\n",
        "#sns.pairplot(dtResultKMeans,hue='Results')"
      ],
      "execution_count": 1,
      "outputs": [
        {
          "output_type": "error",
          "ename": "NameError",
          "evalue": "ignored",
          "traceback": [
            "\u001b[0;31m---------------------------------------------------------------------------\u001b[0m",
            "\u001b[0;31mNameError\u001b[0m                                 Traceback (most recent call last)",
            "\u001b[0;32m<ipython-input-1-66709685e3bc>\u001b[0m in \u001b[0;36m<module>\u001b[0;34m()\u001b[0m\n\u001b[1;32m      1\u001b[0m \u001b[0;31m#Distribuição K-Means\u001b[0m\u001b[0;34m\u001b[0m\u001b[0;34m\u001b[0m\u001b[0;34m\u001b[0m\u001b[0m\n\u001b[0;32m----> 2\u001b[0;31m \u001b[0msns\u001b[0m\u001b[0;34m.\u001b[0m\u001b[0mpairplot\u001b[0m\u001b[0;34m(\u001b[0m\u001b[0mdtResultKMeans\u001b[0m\u001b[0;34m,\u001b[0m\u001b[0mhue\u001b[0m\u001b[0;34m=\u001b[0m\u001b[0;34m'Results'\u001b[0m\u001b[0;34m)\u001b[0m\u001b[0;34m\u001b[0m\u001b[0;34m\u001b[0m\u001b[0m\n\u001b[0m",
            "\u001b[0;31mNameError\u001b[0m: name 'sns' is not defined"
          ]
        }
      ]
    },
    {
      "cell_type": "markdown",
      "metadata": {
        "id": "vxlEHIHuMBKq"
      },
      "source": [
        "###@Aplicação com características Histopatológicas"
      ]
    },
    {
      "cell_type": "code",
      "metadata": {
        "colab": {
          "base_uri": "https://localhost:8080/"
        },
        "id": "1pDLmSN7MI-1",
        "outputId": "02f7bec5-910e-40ae-81a8-a9861193cdf5"
      },
      "source": [
        "#Separando somente as características Clínicas de cada Paciente. \n",
        "X = np.array(((dermatologyDb.drop(dermatologyDb.columns[0:11],axis = 1)).drop(columns=['target'],axis = 1).drop(columns=['age'],axis = 1)))\n",
        "kmeans.fit(X)\n",
        "dtResultKMeans = dermatologyDb.copy()\n",
        "dtResultKMeans['Results'] = kmeans.labels_\n",
        "dtAux = dtResultKMeans[dtResultKMeans['target']==dtResultKMeans['Results']]\n",
        "precisao = len(dtAux)/len(dtResultKMeans)\n",
        "print(precisao)"
      ],
      "execution_count": null,
      "outputs": [
        {
          "output_type": "stream",
          "text": [
            "0.27595628415300544\n"
          ],
          "name": "stdout"
        }
      ]
    },
    {
      "cell_type": "markdown",
      "metadata": {
        "id": "wNJQxT5YO2Uj"
      },
      "source": [
        "####@Plot"
      ]
    },
    {
      "cell_type": "code",
      "metadata": {
        "id": "jIEDaOt5PcIY"
      },
      "source": [
        "#Distribuição Sem K-Means\n",
        "#sns.pairplot(((dermatologyDb.drop(dermatologyDb.columns[0:11],axis = 1)).drop(columns=['target'],axis = 1).drop(columns=['age'],axis = 1)),hue='target')"
      ],
      "execution_count": null,
      "outputs": []
    },
    {
      "cell_type": "code",
      "metadata": {
        "id": "IOjwrdbnO2Uj"
      },
      "source": [
        "#sns.pairplot(dtResultKMeans,hue='Results')"
      ],
      "execution_count": null,
      "outputs": []
    }
  ]
}