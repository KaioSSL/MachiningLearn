{
  "nbformat": 4,
  "nbformat_minor": 0,
  "metadata": {
    "colab": {
      "name": "IN_TRAB_02",
      "provenance": []
    },
    "kernelspec": {
      "name": "python3",
      "display_name": "Python 3"
    },
    "language_info": {
      "name": "python"
    }
  },
  "cells": [
    {
      "cell_type": "code",
      "metadata": {
        "colab": {
          "base_uri": "https://localhost:8080/"
        },
        "id": "ZO3lRhjAdT3i",
        "outputId": "79168098-165c-4914-85a9-641f3b262f11"
      },
      "source": [
        "!pip install graphviz"
      ],
      "execution_count": null,
      "outputs": [
        {
          "output_type": "stream",
          "text": [
            "Requirement already satisfied: graphviz in /usr/local/lib/python3.7/dist-packages (0.10.1)\n"
          ],
          "name": "stdout"
        }
      ]
    },
    {
      "cell_type": "markdown",
      "metadata": {
        "id": "mM_H3pz5Q32O"
      },
      "source": [
        "####@Imports"
      ]
    },
    {
      "cell_type": "code",
      "metadata": {
        "id": "UgIqqJSDQ_D-"
      },
      "source": [
        "import pandas as pd\n",
        "\n",
        "import numpy as np\n",
        "\n",
        "from matplotlib import pyplot as plt\n",
        "\n",
        "import seaborn as sns\n",
        "\n",
        "from sklearn.tree import DecisionTreeClassifier\n",
        "from sklearn.tree import export_graphviz\n",
        "from sklearn.model_selection import train_test_split\n",
        "from sklearn import metrics\n",
        "\n",
        "\n",
        "import graphviz\n",
        "import pydot\n"
      ],
      "execution_count": null,
      "outputs": []
    },
    {
      "cell_type": "markdown",
      "metadata": {
        "id": "LM30QFnjRRQi"
      },
      "source": [
        "####@Estabelecendo conexão com a Base de Dados"
      ]
    },
    {
      "cell_type": "code",
      "metadata": {
        "id": "Y3A5AnPHRR0j"
      },
      "source": [
        "dermatologyDb = pd.read_csv('dermatology.data');\n",
        "#dermatologyDb"
      ],
      "execution_count": null,
      "outputs": []
    },
    {
      "cell_type": "markdown",
      "metadata": {
        "id": "aQ1ZC1ah0DSW"
      },
      "source": [
        "####**@Pré Processamento**"
      ]
    },
    {
      "cell_type": "code",
      "metadata": {
        "id": "JbJv7SXLz_Iu"
      },
      "source": [
        "#Informação do dataset\n",
        "dermatologyDb.info()"
      ],
      "execution_count": null,
      "outputs": []
    },
    {
      "cell_type": "code",
      "metadata": {
        "id": "H5hJqP8SXTnx"
      },
      "source": [
        "dermatologyDb"
      ],
      "execution_count": null,
      "outputs": []
    },
    {
      "cell_type": "code",
      "metadata": {
        "id": "4tagZlroUAV9"
      },
      "source": [
        "#Removendo Idade fora do range e removendo strings da Idade.\n",
        "dbAux = dermatologyDb[dermatologyDb[\"age\"]!= \"?\"]\n",
        "dbAux.fillna(method='bfill')\n",
        "dermatologyDb.age.replace({\"?\":int(dbAux.age.median())},inplace = True)"
      ],
      "execution_count": null,
      "outputs": []
    },
    {
      "cell_type": "code",
      "metadata": {
        "id": "sCfCtflV0LWn"
      },
      "source": [
        "#Removendo Idade fora do range e removendo strings da Idade.\n"
      ],
      "execution_count": null,
      "outputs": []
    },
    {
      "cell_type": "code",
      "metadata": {
        "id": "Kj0YvXSO0Mpq"
      },
      "source": [
        "#Verificação de Propriedades\n",
        "dermatologyDb.describe()"
      ],
      "execution_count": null,
      "outputs": []
    },
    {
      "cell_type": "code",
      "metadata": {
        "colab": {
          "base_uri": "https://localhost:8080/",
          "height": 490
        },
        "id": "bXaz1YNe1bG4",
        "outputId": "932b84f5-37ec-45e5-f09e-4c99867284b9"
      },
      "source": [
        "#Removendo todos nulos\n",
        "dermatologyDb.dropna()"
      ],
      "execution_count": null,
      "outputs": [
        {
          "output_type": "execute_result",
          "data": {
            "text/html": [
              "<div>\n",
              "<style scoped>\n",
              "    .dataframe tbody tr th:only-of-type {\n",
              "        vertical-align: middle;\n",
              "    }\n",
              "\n",
              "    .dataframe tbody tr th {\n",
              "        vertical-align: top;\n",
              "    }\n",
              "\n",
              "    .dataframe thead th {\n",
              "        text-align: right;\n",
              "    }\n",
              "</style>\n",
              "<table border=\"1\" class=\"dataframe\">\n",
              "  <thead>\n",
              "    <tr style=\"text-align: right;\">\n",
              "      <th></th>\n",
              "      <th>erythema</th>\n",
              "      <th>scaling</th>\n",
              "      <th>definite borders</th>\n",
              "      <th>itching</th>\n",
              "      <th>koebner phenomenon</th>\n",
              "      <th>polygonal papules</th>\n",
              "      <th>follicular papules</th>\n",
              "      <th>oral mucosal involvement</th>\n",
              "      <th>knee and elbow involvement</th>\n",
              "      <th>scalp involvement</th>\n",
              "      <th>family history</th>\n",
              "      <th>melanin incontinence</th>\n",
              "      <th>eosinophils in the infiltrate</th>\n",
              "      <th>PNL infiltrate</th>\n",
              "      <th>fibrosis of the papillary dermis</th>\n",
              "      <th>exocytosis</th>\n",
              "      <th>acanthosis</th>\n",
              "      <th>hyperkeratosis</th>\n",
              "      <th>parakeratosis</th>\n",
              "      <th>clubbing of the rete ridges</th>\n",
              "      <th>elongation of the rete ridges</th>\n",
              "      <th>thinning of the suprapapillary epidermis</th>\n",
              "      <th>spongiform pustule</th>\n",
              "      <th>munro microabcess</th>\n",
              "      <th>focal hypergranulosis</th>\n",
              "      <th>disappearance of the granular layer</th>\n",
              "      <th>vacuolisation and damage of basal layer</th>\n",
              "      <th>spongiosis</th>\n",
              "      <th>saw-tooth appearance of retes</th>\n",
              "      <th>follicular horn plug</th>\n",
              "      <th>perifollicular parakeratosis</th>\n",
              "      <th>inflammatory monoluclear inflitrate</th>\n",
              "      <th>band-like infiltrate</th>\n",
              "      <th>age</th>\n",
              "      <th>target</th>\n",
              "    </tr>\n",
              "  </thead>\n",
              "  <tbody>\n",
              "    <tr>\n",
              "      <th>0</th>\n",
              "      <td>2</td>\n",
              "      <td>2</td>\n",
              "      <td>0</td>\n",
              "      <td>3</td>\n",
              "      <td>0</td>\n",
              "      <td>0</td>\n",
              "      <td>0</td>\n",
              "      <td>0</td>\n",
              "      <td>1</td>\n",
              "      <td>0</td>\n",
              "      <td>0</td>\n",
              "      <td>0</td>\n",
              "      <td>0</td>\n",
              "      <td>0</td>\n",
              "      <td>0</td>\n",
              "      <td>3</td>\n",
              "      <td>2</td>\n",
              "      <td>0</td>\n",
              "      <td>0</td>\n",
              "      <td>0</td>\n",
              "      <td>0</td>\n",
              "      <td>0</td>\n",
              "      <td>0</td>\n",
              "      <td>0</td>\n",
              "      <td>0</td>\n",
              "      <td>0</td>\n",
              "      <td>0</td>\n",
              "      <td>3</td>\n",
              "      <td>0</td>\n",
              "      <td>0</td>\n",
              "      <td>0</td>\n",
              "      <td>1</td>\n",
              "      <td>0</td>\n",
              "      <td>55</td>\n",
              "      <td>2</td>\n",
              "    </tr>\n",
              "    <tr>\n",
              "      <th>1</th>\n",
              "      <td>3</td>\n",
              "      <td>3</td>\n",
              "      <td>3</td>\n",
              "      <td>2</td>\n",
              "      <td>1</td>\n",
              "      <td>0</td>\n",
              "      <td>0</td>\n",
              "      <td>0</td>\n",
              "      <td>1</td>\n",
              "      <td>1</td>\n",
              "      <td>1</td>\n",
              "      <td>0</td>\n",
              "      <td>0</td>\n",
              "      <td>1</td>\n",
              "      <td>0</td>\n",
              "      <td>1</td>\n",
              "      <td>2</td>\n",
              "      <td>0</td>\n",
              "      <td>2</td>\n",
              "      <td>2</td>\n",
              "      <td>2</td>\n",
              "      <td>2</td>\n",
              "      <td>2</td>\n",
              "      <td>1</td>\n",
              "      <td>0</td>\n",
              "      <td>0</td>\n",
              "      <td>0</td>\n",
              "      <td>0</td>\n",
              "      <td>0</td>\n",
              "      <td>0</td>\n",
              "      <td>0</td>\n",
              "      <td>1</td>\n",
              "      <td>0</td>\n",
              "      <td>8</td>\n",
              "      <td>1</td>\n",
              "    </tr>\n",
              "    <tr>\n",
              "      <th>2</th>\n",
              "      <td>2</td>\n",
              "      <td>1</td>\n",
              "      <td>2</td>\n",
              "      <td>3</td>\n",
              "      <td>1</td>\n",
              "      <td>3</td>\n",
              "      <td>0</td>\n",
              "      <td>3</td>\n",
              "      <td>0</td>\n",
              "      <td>0</td>\n",
              "      <td>0</td>\n",
              "      <td>1</td>\n",
              "      <td>0</td>\n",
              "      <td>0</td>\n",
              "      <td>0</td>\n",
              "      <td>1</td>\n",
              "      <td>2</td>\n",
              "      <td>0</td>\n",
              "      <td>2</td>\n",
              "      <td>0</td>\n",
              "      <td>0</td>\n",
              "      <td>0</td>\n",
              "      <td>0</td>\n",
              "      <td>0</td>\n",
              "      <td>2</td>\n",
              "      <td>0</td>\n",
              "      <td>2</td>\n",
              "      <td>3</td>\n",
              "      <td>2</td>\n",
              "      <td>0</td>\n",
              "      <td>0</td>\n",
              "      <td>2</td>\n",
              "      <td>3</td>\n",
              "      <td>26</td>\n",
              "      <td>3</td>\n",
              "    </tr>\n",
              "    <tr>\n",
              "      <th>3</th>\n",
              "      <td>2</td>\n",
              "      <td>2</td>\n",
              "      <td>2</td>\n",
              "      <td>0</td>\n",
              "      <td>0</td>\n",
              "      <td>0</td>\n",
              "      <td>0</td>\n",
              "      <td>0</td>\n",
              "      <td>3</td>\n",
              "      <td>2</td>\n",
              "      <td>0</td>\n",
              "      <td>0</td>\n",
              "      <td>0</td>\n",
              "      <td>3</td>\n",
              "      <td>0</td>\n",
              "      <td>0</td>\n",
              "      <td>2</td>\n",
              "      <td>0</td>\n",
              "      <td>3</td>\n",
              "      <td>2</td>\n",
              "      <td>2</td>\n",
              "      <td>2</td>\n",
              "      <td>2</td>\n",
              "      <td>0</td>\n",
              "      <td>0</td>\n",
              "      <td>3</td>\n",
              "      <td>0</td>\n",
              "      <td>0</td>\n",
              "      <td>0</td>\n",
              "      <td>0</td>\n",
              "      <td>0</td>\n",
              "      <td>3</td>\n",
              "      <td>0</td>\n",
              "      <td>40</td>\n",
              "      <td>1</td>\n",
              "    </tr>\n",
              "    <tr>\n",
              "      <th>4</th>\n",
              "      <td>2</td>\n",
              "      <td>3</td>\n",
              "      <td>2</td>\n",
              "      <td>2</td>\n",
              "      <td>2</td>\n",
              "      <td>2</td>\n",
              "      <td>0</td>\n",
              "      <td>2</td>\n",
              "      <td>0</td>\n",
              "      <td>0</td>\n",
              "      <td>0</td>\n",
              "      <td>1</td>\n",
              "      <td>0</td>\n",
              "      <td>0</td>\n",
              "      <td>0</td>\n",
              "      <td>1</td>\n",
              "      <td>2</td>\n",
              "      <td>0</td>\n",
              "      <td>0</td>\n",
              "      <td>0</td>\n",
              "      <td>0</td>\n",
              "      <td>0</td>\n",
              "      <td>0</td>\n",
              "      <td>0</td>\n",
              "      <td>2</td>\n",
              "      <td>2</td>\n",
              "      <td>3</td>\n",
              "      <td>2</td>\n",
              "      <td>3</td>\n",
              "      <td>0</td>\n",
              "      <td>0</td>\n",
              "      <td>2</td>\n",
              "      <td>3</td>\n",
              "      <td>45</td>\n",
              "      <td>3</td>\n",
              "    </tr>\n",
              "    <tr>\n",
              "      <th>...</th>\n",
              "      <td>...</td>\n",
              "      <td>...</td>\n",
              "      <td>...</td>\n",
              "      <td>...</td>\n",
              "      <td>...</td>\n",
              "      <td>...</td>\n",
              "      <td>...</td>\n",
              "      <td>...</td>\n",
              "      <td>...</td>\n",
              "      <td>...</td>\n",
              "      <td>...</td>\n",
              "      <td>...</td>\n",
              "      <td>...</td>\n",
              "      <td>...</td>\n",
              "      <td>...</td>\n",
              "      <td>...</td>\n",
              "      <td>...</td>\n",
              "      <td>...</td>\n",
              "      <td>...</td>\n",
              "      <td>...</td>\n",
              "      <td>...</td>\n",
              "      <td>...</td>\n",
              "      <td>...</td>\n",
              "      <td>...</td>\n",
              "      <td>...</td>\n",
              "      <td>...</td>\n",
              "      <td>...</td>\n",
              "      <td>...</td>\n",
              "      <td>...</td>\n",
              "      <td>...</td>\n",
              "      <td>...</td>\n",
              "      <td>...</td>\n",
              "      <td>...</td>\n",
              "      <td>...</td>\n",
              "      <td>...</td>\n",
              "    </tr>\n",
              "    <tr>\n",
              "      <th>361</th>\n",
              "      <td>2</td>\n",
              "      <td>1</td>\n",
              "      <td>1</td>\n",
              "      <td>0</td>\n",
              "      <td>1</td>\n",
              "      <td>0</td>\n",
              "      <td>0</td>\n",
              "      <td>0</td>\n",
              "      <td>0</td>\n",
              "      <td>0</td>\n",
              "      <td>0</td>\n",
              "      <td>0</td>\n",
              "      <td>0</td>\n",
              "      <td>1</td>\n",
              "      <td>0</td>\n",
              "      <td>1</td>\n",
              "      <td>1</td>\n",
              "      <td>0</td>\n",
              "      <td>0</td>\n",
              "      <td>0</td>\n",
              "      <td>0</td>\n",
              "      <td>0</td>\n",
              "      <td>0</td>\n",
              "      <td>0</td>\n",
              "      <td>0</td>\n",
              "      <td>0</td>\n",
              "      <td>0</td>\n",
              "      <td>1</td>\n",
              "      <td>0</td>\n",
              "      <td>0</td>\n",
              "      <td>0</td>\n",
              "      <td>2</td>\n",
              "      <td>0</td>\n",
              "      <td>25</td>\n",
              "      <td>4</td>\n",
              "    </tr>\n",
              "    <tr>\n",
              "      <th>362</th>\n",
              "      <td>3</td>\n",
              "      <td>2</td>\n",
              "      <td>1</td>\n",
              "      <td>0</td>\n",
              "      <td>1</td>\n",
              "      <td>0</td>\n",
              "      <td>0</td>\n",
              "      <td>0</td>\n",
              "      <td>0</td>\n",
              "      <td>0</td>\n",
              "      <td>0</td>\n",
              "      <td>0</td>\n",
              "      <td>0</td>\n",
              "      <td>0</td>\n",
              "      <td>0</td>\n",
              "      <td>2</td>\n",
              "      <td>2</td>\n",
              "      <td>0</td>\n",
              "      <td>0</td>\n",
              "      <td>0</td>\n",
              "      <td>0</td>\n",
              "      <td>0</td>\n",
              "      <td>0</td>\n",
              "      <td>0</td>\n",
              "      <td>0</td>\n",
              "      <td>1</td>\n",
              "      <td>0</td>\n",
              "      <td>1</td>\n",
              "      <td>0</td>\n",
              "      <td>0</td>\n",
              "      <td>0</td>\n",
              "      <td>2</td>\n",
              "      <td>0</td>\n",
              "      <td>36</td>\n",
              "      <td>4</td>\n",
              "    </tr>\n",
              "    <tr>\n",
              "      <th>363</th>\n",
              "      <td>3</td>\n",
              "      <td>2</td>\n",
              "      <td>2</td>\n",
              "      <td>2</td>\n",
              "      <td>3</td>\n",
              "      <td>2</td>\n",
              "      <td>0</td>\n",
              "      <td>2</td>\n",
              "      <td>0</td>\n",
              "      <td>0</td>\n",
              "      <td>0</td>\n",
              "      <td>2</td>\n",
              "      <td>2</td>\n",
              "      <td>0</td>\n",
              "      <td>0</td>\n",
              "      <td>3</td>\n",
              "      <td>3</td>\n",
              "      <td>0</td>\n",
              "      <td>0</td>\n",
              "      <td>0</td>\n",
              "      <td>0</td>\n",
              "      <td>0</td>\n",
              "      <td>0</td>\n",
              "      <td>0</td>\n",
              "      <td>3</td>\n",
              "      <td>0</td>\n",
              "      <td>3</td>\n",
              "      <td>0</td>\n",
              "      <td>3</td>\n",
              "      <td>0</td>\n",
              "      <td>0</td>\n",
              "      <td>2</td>\n",
              "      <td>3</td>\n",
              "      <td>28</td>\n",
              "      <td>3</td>\n",
              "    </tr>\n",
              "    <tr>\n",
              "      <th>364</th>\n",
              "      <td>2</td>\n",
              "      <td>1</td>\n",
              "      <td>3</td>\n",
              "      <td>1</td>\n",
              "      <td>2</td>\n",
              "      <td>3</td>\n",
              "      <td>0</td>\n",
              "      <td>2</td>\n",
              "      <td>0</td>\n",
              "      <td>0</td>\n",
              "      <td>0</td>\n",
              "      <td>2</td>\n",
              "      <td>0</td>\n",
              "      <td>0</td>\n",
              "      <td>0</td>\n",
              "      <td>3</td>\n",
              "      <td>2</td>\n",
              "      <td>0</td>\n",
              "      <td>0</td>\n",
              "      <td>0</td>\n",
              "      <td>0</td>\n",
              "      <td>0</td>\n",
              "      <td>0</td>\n",
              "      <td>0</td>\n",
              "      <td>3</td>\n",
              "      <td>0</td>\n",
              "      <td>2</td>\n",
              "      <td>0</td>\n",
              "      <td>1</td>\n",
              "      <td>0</td>\n",
              "      <td>0</td>\n",
              "      <td>2</td>\n",
              "      <td>3</td>\n",
              "      <td>50</td>\n",
              "      <td>3</td>\n",
              "    </tr>\n",
              "    <tr>\n",
              "      <th>365</th>\n",
              "      <td>3</td>\n",
              "      <td>2</td>\n",
              "      <td>2</td>\n",
              "      <td>0</td>\n",
              "      <td>0</td>\n",
              "      <td>0</td>\n",
              "      <td>0</td>\n",
              "      <td>0</td>\n",
              "      <td>3</td>\n",
              "      <td>3</td>\n",
              "      <td>0</td>\n",
              "      <td>0</td>\n",
              "      <td>0</td>\n",
              "      <td>1</td>\n",
              "      <td>0</td>\n",
              "      <td>0</td>\n",
              "      <td>2</td>\n",
              "      <td>0</td>\n",
              "      <td>2</td>\n",
              "      <td>3</td>\n",
              "      <td>2</td>\n",
              "      <td>3</td>\n",
              "      <td>0</td>\n",
              "      <td>2</td>\n",
              "      <td>0</td>\n",
              "      <td>2</td>\n",
              "      <td>0</td>\n",
              "      <td>0</td>\n",
              "      <td>0</td>\n",
              "      <td>0</td>\n",
              "      <td>0</td>\n",
              "      <td>3</td>\n",
              "      <td>0</td>\n",
              "      <td>35</td>\n",
              "      <td>1</td>\n",
              "    </tr>\n",
              "  </tbody>\n",
              "</table>\n",
              "<p>366 rows × 35 columns</p>\n",
              "</div>"
            ],
            "text/plain": [
              "     erythema  scaling  definite borders  ...  band-like infiltrate  age  target\n",
              "0           2        2                 0  ...                     0   55       2\n",
              "1           3        3                 3  ...                     0    8       1\n",
              "2           2        1                 2  ...                     3   26       3\n",
              "3           2        2                 2  ...                     0   40       1\n",
              "4           2        3                 2  ...                     3   45       3\n",
              "..        ...      ...               ...  ...                   ...  ...     ...\n",
              "361         2        1                 1  ...                     0   25       4\n",
              "362         3        2                 1  ...                     0   36       4\n",
              "363         3        2                 2  ...                     3   28       3\n",
              "364         2        1                 3  ...                     3   50       3\n",
              "365         3        2                 2  ...                     0   35       1\n",
              "\n",
              "[366 rows x 35 columns]"
            ]
          },
          "metadata": {},
          "execution_count": 37
        }
      ]
    },
    {
      "cell_type": "markdown",
      "metadata": {
        "id": "i7kCjKcZzT6h"
      },
      "source": [
        "####@Aplicação da Ávore de decisão"
      ]
    },
    {
      "cell_type": "code",
      "metadata": {
        "id": "sLXjtiYVX5Ci"
      },
      "source": [
        "x_train, x_test, y_train, y_test = train_test_split (dermatologyDb.drop('family history', axis = 1), dermatologyDb['family history'], test_size  = 0.3)"
      ],
      "execution_count": null,
      "outputs": []
    },
    {
      "cell_type": "code",
      "metadata": {
        "colab": {
          "base_uri": "https://localhost:8080/"
        },
        "id": "g_g7V6q2brXn",
        "outputId": "71446ab5-6f92-4349-9a51-f4ede63ad2e3"
      },
      "source": [
        "x_train.shape, x_test.shape"
      ],
      "execution_count": null,
      "outputs": [
        {
          "output_type": "execute_result",
          "data": {
            "text/plain": [
              "((256, 34), (110, 34))"
            ]
          },
          "metadata": {},
          "execution_count": 39
        }
      ]
    },
    {
      "cell_type": "code",
      "metadata": {
        "colab": {
          "base_uri": "https://localhost:8080/"
        },
        "id": "QjAs1Nubbzc4",
        "outputId": "be1c51af-bea3-4871-e65f-e106197c6d2e"
      },
      "source": [
        "y_test.shape, y_test.shape"
      ],
      "execution_count": null,
      "outputs": [
        {
          "output_type": "execute_result",
          "data": {
            "text/plain": [
              "((110,), (110,))"
            ]
          },
          "metadata": {},
          "execution_count": 40
        }
      ]
    },
    {
      "cell_type": "code",
      "metadata": {
        "id": "tjko3N5tcDuE"
      },
      "source": [
        "modeloClassificador = DecisionTreeClassifier(max_depth = None,\n",
        "                                  max_features = None,\n",
        "                                  criterion = 'entropy',\n",
        "                                  min_samples_leaf = 1,\n",
        "                                  min_samples_split = 2 \n",
        "                                  )"
      ],
      "execution_count": null,
      "outputs": []
    },
    {
      "cell_type": "code",
      "metadata": {
        "id": "Q94TOv22XtAn"
      },
      "source": [
        "modeloClassificador_2 = DecisionTreeClassifier(max_depth = None,\n",
        "                                  max_features = None,\n",
        "                                  criterion = 'gini',\n",
        "                                  min_samples_leaf = 1,\n",
        "                                  min_samples_split = 2 \n",
        "                                  )"
      ],
      "execution_count": null,
      "outputs": []
    },
    {
      "cell_type": "markdown",
      "metadata": {
        "id": "HbXOwayscugO"
      },
      "source": [
        "--Treinando o modelo"
      ]
    },
    {
      "cell_type": "code",
      "metadata": {
        "id": "6WXEkSlxcmy9"
      },
      "source": [
        "test_model_1 = modeloClassificador.fit(x_train, y_train)"
      ],
      "execution_count": null,
      "outputs": []
    },
    {
      "cell_type": "code",
      "metadata": {
        "id": "fVGhtRjuXxGq"
      },
      "source": [
        "test_model_2 = modeloClassificador_2.fit(x_train, y_train)"
      ],
      "execution_count": null,
      "outputs": []
    },
    {
      "cell_type": "markdown",
      "metadata": {
        "id": "ZShwdqz_dhEO"
      },
      "source": [
        "--Resultado do teinamento"
      ]
    },
    {
      "cell_type": "code",
      "metadata": {
        "colab": {
          "base_uri": "https://localhost:8080/"
        },
        "id": "qX-SPixJdVI1",
        "outputId": "9978b263-f89c-4c6a-eaab-7a1e98de6a2c"
      },
      "source": [
        "resultado = test_model_1.predict(x_test)\n",
        "\n",
        "resultado"
      ],
      "execution_count": null,
      "outputs": [
        {
          "output_type": "execute_result",
          "data": {
            "text/plain": [
              "array([0, 0, 0, 0, 0, 0, 0, 1, 0, 0, 0, 0, 0, 0, 0, 0, 0, 0, 0, 1, 0, 0,\n",
              "       0, 1, 0, 0, 1, 0, 0, 1, 0, 0, 0, 0, 0, 0, 0, 0, 0, 1, 0, 0, 0, 0,\n",
              "       0, 0, 0, 0, 0, 0, 0, 0, 0, 0, 0, 0, 0, 0, 0, 0, 0, 0, 0, 1, 0, 0,\n",
              "       0, 0, 0, 0, 0, 0, 0, 0, 0, 0, 0, 1, 1, 0, 0, 0, 0, 0, 0, 0, 0, 0,\n",
              "       0, 0, 0, 0, 0, 0, 1, 0, 0, 0, 0, 1, 0, 0, 0, 0, 0, 0, 0, 1, 0, 0])"
            ]
          },
          "metadata": {},
          "execution_count": 49
        }
      ]
    },
    {
      "cell_type": "code",
      "metadata": {
        "colab": {
          "base_uri": "https://localhost:8080/"
        },
        "id": "gfQDqwZ2X3fI",
        "outputId": "d886e1a0-df1f-4980-cc4b-9b6107ca714d"
      },
      "source": [
        "resultado_2 = test_model_2.predict(x_test)\n",
        "\n",
        "resultado_2"
      ],
      "execution_count": null,
      "outputs": [
        {
          "output_type": "execute_result",
          "data": {
            "text/plain": [
              "array([0, 1, 0, 0, 0, 0, 0, 1, 0, 0, 0, 0, 0, 0, 0, 0, 0, 0, 0, 1, 0, 0,\n",
              "       0, 0, 0, 0, 0, 0, 0, 1, 0, 0, 1, 0, 0, 0, 0, 0, 0, 1, 0, 0, 0, 0,\n",
              "       0, 0, 1, 0, 0, 0, 0, 1, 1, 0, 0, 0, 0, 0, 0, 0, 0, 0, 0, 1, 0, 0,\n",
              "       0, 0, 1, 0, 0, 1, 0, 0, 0, 0, 0, 1, 1, 0, 0, 0, 0, 0, 0, 1, 0, 0,\n",
              "       0, 0, 0, 0, 0, 0, 0, 0, 0, 0, 0, 1, 0, 0, 0, 0, 0, 0, 0, 0, 0, 0])"
            ]
          },
          "metadata": {},
          "execution_count": 50
        }
      ]
    },
    {
      "cell_type": "code",
      "metadata": {
        "colab": {
          "base_uri": "https://localhost:8080/"
        },
        "id": "kzMcE4hedq-4",
        "outputId": "dc064612-dbec-4a24-f4ed-398c42f2cbed"
      },
      "source": [
        "print (metrics.classification_report(y_test, resultado))"
      ],
      "execution_count": null,
      "outputs": [
        {
          "output_type": "stream",
          "text": [
            "              precision    recall  f1-score   support\n",
            "\n",
            "           0       0.89      0.91      0.90        96\n",
            "           1       0.25      0.21      0.23        14\n",
            "\n",
            "    accuracy                           0.82       110\n",
            "   macro avg       0.57      0.56      0.56       110\n",
            "weighted avg       0.81      0.82      0.81       110\n",
            "\n"
          ],
          "name": "stdout"
        }
      ]
    },
    {
      "cell_type": "code",
      "metadata": {
        "colab": {
          "base_uri": "https://localhost:8080/"
        },
        "id": "lsrTwDhkX-4r",
        "outputId": "7b78ab5e-4539-4e75-f971-4462959e6194"
      },
      "source": [
        "print (metrics.classification_report(y_test, resultado_2))"
      ],
      "execution_count": null,
      "outputs": [
        {
          "output_type": "stream",
          "text": [
            "              precision    recall  f1-score   support\n",
            "\n",
            "           0       0.90      0.89      0.89        96\n",
            "           1       0.31      0.36      0.33        14\n",
            "\n",
            "    accuracy                           0.82       110\n",
            "   macro avg       0.61      0.62      0.61       110\n",
            "weighted avg       0.83      0.82      0.82       110\n",
            "\n"
          ],
          "name": "stdout"
        }
      ]
    },
    {
      "cell_type": "markdown",
      "metadata": {
        "id": "KGh-gbH3fred"
      },
      "source": [
        "--Exibindo árvore"
      ]
    },
    {
      "cell_type": "code",
      "metadata": {
        "id": "4qm2cxDMflAI"
      },
      "source": [
        "dot_data = export_graphviz(\n",
        "    test_model_1,\n",
        "    out_file = None,\n",
        "    feature_names = dermatologyDb.drop('family history', axis = 1).columns,\n",
        "    class_names = ['0', '1'],\n",
        "    filled = True, \n",
        "    rounded = True,\n",
        "    proportion = True,\n",
        "    node_ids = True,\n",
        "    rotate = True,\n",
        "    label = 'all',\n",
        "    special_characters = True)"
      ],
      "execution_count": null,
      "outputs": []
    },
    {
      "cell_type": "code",
      "metadata": {
        "id": "t6XRGKAriD5m",
        "colab": {
          "base_uri": "https://localhost:8080/",
          "height": 1000
        },
        "outputId": "e093631c-72ef-4ce7-b91c-d13492bad5f1"
      },
      "source": [
        "graph = graphviz.Source(dot_data)\n",
        "\n",
        "graph"
      ],
      "execution_count": null,
      "outputs": [
        {
          "output_type": "execute_result",
          "data": {
            "text/plain": [
              "<graphviz.files.Source at 0x7ff7dccbca10>"
            ],
            "image/svg+xml": "<?xml version=\"1.0\" encoding=\"UTF-8\" standalone=\"no\"?>\n<!DOCTYPE svg PUBLIC \"-//W3C//DTD SVG 1.1//EN\"\n \"http://www.w3.org/Graphics/SVG/1.1/DTD/svg11.dtd\">\n<!-- Generated by graphviz version 2.40.1 (20161225.0304)\n -->\n<!-- Title: Tree Pages: 1 -->\n<svg width=\"2811pt\" height=\"1560pt\"\n viewBox=\"0.00 0.00 2811.00 1560.00\" xmlns=\"http://www.w3.org/2000/svg\" xmlns:xlink=\"http://www.w3.org/1999/xlink\">\n<g id=\"graph0\" class=\"graph\" transform=\"scale(1 1) rotate(0) translate(4 1556)\">\n<title>Tree</title>\n<polygon fill=\"#ffffff\" stroke=\"transparent\" points=\"-4,4 -4,-1556 2807,-1556 2807,4 -4,4\"/>\n<!-- 0 -->\n<g id=\"node1\" class=\"node\">\n<title>0</title>\n<path fill=\"#e99457\" stroke=\"#000000\" d=\"M224,-931.5C224,-931.5 12,-931.5 12,-931.5 6,-931.5 0,-925.5 0,-919.5 0,-919.5 0,-845.5 0,-845.5 0,-839.5 6,-833.5 12,-833.5 12,-833.5 224,-833.5 224,-833.5 230,-833.5 236,-839.5 236,-845.5 236,-845.5 236,-919.5 236,-919.5 236,-925.5 230,-931.5 224,-931.5\"/>\n<text text-anchor=\"start\" x=\"91\" y=\"-916.3\" font-family=\"Helvetica,sans-Serif\" font-size=\"14.00\" fill=\"#000000\">node #0</text>\n<text text-anchor=\"start\" x=\"8\" y=\"-901.3\" font-family=\"Helvetica,sans-Serif\" font-size=\"14.00\" fill=\"#000000\">knee and elbow involvement ≤ 0.5</text>\n<text text-anchor=\"start\" x=\"67\" y=\"-886.3\" font-family=\"Helvetica,sans-Serif\" font-size=\"14.00\" fill=\"#000000\">entropy = 0.565</text>\n<text text-anchor=\"start\" x=\"57.5\" y=\"-871.3\" font-family=\"Helvetica,sans-Serif\" font-size=\"14.00\" fill=\"#000000\">samples = 100.0%</text>\n<text text-anchor=\"start\" x=\"48\" y=\"-856.3\" font-family=\"Helvetica,sans-Serif\" font-size=\"14.00\" fill=\"#000000\">value = [0.867, 0.133]</text>\n<text text-anchor=\"start\" x=\"89\" y=\"-841.3\" font-family=\"Helvetica,sans-Serif\" font-size=\"14.00\" fill=\"#000000\">class = 0</text>\n</g>\n<!-- 1 -->\n<g id=\"node2\" class=\"node\">\n<title>1</title>\n<path fill=\"#e68641\" stroke=\"#000000\" d=\"M564,-1064.5C564,-1064.5 284,-1064.5 284,-1064.5 278,-1064.5 272,-1058.5 272,-1052.5 272,-1052.5 272,-978.5 272,-978.5 272,-972.5 278,-966.5 284,-966.5 284,-966.5 564,-966.5 564,-966.5 570,-966.5 576,-972.5 576,-978.5 576,-978.5 576,-1052.5 576,-1052.5 576,-1058.5 570,-1064.5 564,-1064.5\"/>\n<text text-anchor=\"start\" x=\"397\" y=\"-1049.3\" font-family=\"Helvetica,sans-Serif\" font-size=\"14.00\" fill=\"#000000\">node #1</text>\n<text text-anchor=\"start\" x=\"280\" y=\"-1034.3\" font-family=\"Helvetica,sans-Serif\" font-size=\"14.00\" fill=\"#000000\">thinning of the suprapapillary epidermis ≤ 1.5</text>\n<text text-anchor=\"start\" x=\"373\" y=\"-1019.3\" font-family=\"Helvetica,sans-Serif\" font-size=\"14.00\" fill=\"#000000\">entropy = 0.239</text>\n<text text-anchor=\"start\" x=\"368\" y=\"-1004.3\" font-family=\"Helvetica,sans-Serif\" font-size=\"14.00\" fill=\"#000000\">samples = 69.5%</text>\n<text text-anchor=\"start\" x=\"354\" y=\"-989.3\" font-family=\"Helvetica,sans-Serif\" font-size=\"14.00\" fill=\"#000000\">value = [0.961, 0.039]</text>\n<text text-anchor=\"start\" x=\"395\" y=\"-974.3\" font-family=\"Helvetica,sans-Serif\" font-size=\"14.00\" fill=\"#000000\">class = 0</text>\n</g>\n<!-- 0&#45;&gt;1 -->\n<g id=\"edge1\" class=\"edge\">\n<title>0&#45;&gt;1</title>\n<path fill=\"none\" stroke=\"#000000\" d=\"M231.0737,-931.6464C254.1446,-941.6739 278.5177,-952.2675 301.8876,-962.425\"/>\n<polygon fill=\"#000000\" stroke=\"#000000\" points=\"300.5694,-965.6683 311.1358,-966.4447 303.3598,-959.2485 300.5694,-965.6683\"/>\n<text text-anchor=\"middle\" x=\"287.8767\" y=\"-971.9105\" font-family=\"Helvetica,sans-Serif\" font-size=\"14.00\" fill=\"#000000\">True</text>\n</g>\n<!-- 18 -->\n<g id=\"node19\" class=\"node\">\n<title>18</title>\n<path fill=\"#f3c4a2\" stroke=\"#000000\" d=\"M490,-791.5C490,-791.5 358,-791.5 358,-791.5 352,-791.5 346,-785.5 346,-779.5 346,-779.5 346,-705.5 346,-705.5 346,-699.5 352,-693.5 358,-693.5 358,-693.5 490,-693.5 490,-693.5 496,-693.5 502,-699.5 502,-705.5 502,-705.5 502,-779.5 502,-779.5 502,-785.5 496,-791.5 490,-791.5\"/>\n<text text-anchor=\"start\" x=\"393\" y=\"-776.3\" font-family=\"Helvetica,sans-Serif\" font-size=\"14.00\" fill=\"#000000\">node #18</text>\n<text text-anchor=\"start\" x=\"389.5\" y=\"-761.3\" font-family=\"Helvetica,sans-Serif\" font-size=\"14.00\" fill=\"#000000\">age ≤ 19.0</text>\n<text text-anchor=\"start\" x=\"373\" y=\"-746.3\" font-family=\"Helvetica,sans-Serif\" font-size=\"14.00\" fill=\"#000000\">entropy = 0.931</text>\n<text text-anchor=\"start\" x=\"368\" y=\"-731.3\" font-family=\"Helvetica,sans-Serif\" font-size=\"14.00\" fill=\"#000000\">samples = 30.5%</text>\n<text text-anchor=\"start\" x=\"354\" y=\"-716.3\" font-family=\"Helvetica,sans-Serif\" font-size=\"14.00\" fill=\"#000000\">value = [0.654, 0.346]</text>\n<text text-anchor=\"start\" x=\"395\" y=\"-701.3\" font-family=\"Helvetica,sans-Serif\" font-size=\"14.00\" fill=\"#000000\">class = 0</text>\n</g>\n<!-- 0&#45;&gt;18 -->\n<g id=\"edge18\" class=\"edge\">\n<title>0&#45;&gt;18</title>\n<path fill=\"none\" stroke=\"#000000\" d=\"M225.4539,-833.3381C261.8128,-816.7033 301.9475,-798.341 336.5612,-782.5047\"/>\n<polygon fill=\"#000000\" stroke=\"#000000\" points=\"338.0645,-785.6659 345.7018,-778.3227 335.1521,-779.3005 338.0645,-785.6659\"/>\n<text text-anchor=\"middle\" x=\"322.272\" y=\"-765.9022\" font-family=\"Helvetica,sans-Serif\" font-size=\"14.00\" fill=\"#000000\">False</text>\n</g>\n<!-- 2 -->\n<g id=\"node3\" class=\"node\">\n<title>2</title>\n<path fill=\"#e5833b\" stroke=\"#000000\" d=\"M871,-1268.5C871,-1268.5 624,-1268.5 624,-1268.5 618,-1268.5 612,-1262.5 612,-1256.5 612,-1256.5 612,-1182.5 612,-1182.5 612,-1176.5 618,-1170.5 624,-1170.5 624,-1170.5 871,-1170.5 871,-1170.5 877,-1170.5 883,-1176.5 883,-1182.5 883,-1182.5 883,-1256.5 883,-1256.5 883,-1262.5 877,-1268.5 871,-1268.5\"/>\n<text text-anchor=\"start\" x=\"720.5\" y=\"-1253.3\" font-family=\"Helvetica,sans-Serif\" font-size=\"14.00\" fill=\"#000000\">node #2</text>\n<text text-anchor=\"start\" x=\"620\" y=\"-1238.3\" font-family=\"Helvetica,sans-Serif\" font-size=\"14.00\" fill=\"#000000\">inflammatory monoluclear inflitrate ≤ 0.5</text>\n<text text-anchor=\"start\" x=\"696.5\" y=\"-1223.3\" font-family=\"Helvetica,sans-Serif\" font-size=\"14.00\" fill=\"#000000\">entropy = 0.095</text>\n<text text-anchor=\"start\" x=\"691.5\" y=\"-1208.3\" font-family=\"Helvetica,sans-Serif\" font-size=\"14.00\" fill=\"#000000\">samples = 64.5%</text>\n<text text-anchor=\"start\" x=\"677.5\" y=\"-1193.3\" font-family=\"Helvetica,sans-Serif\" font-size=\"14.00\" fill=\"#000000\">value = [0.988, 0.012]</text>\n<text text-anchor=\"start\" x=\"718.5\" y=\"-1178.3\" font-family=\"Helvetica,sans-Serif\" font-size=\"14.00\" fill=\"#000000\">class = 0</text>\n</g>\n<!-- 1&#45;&gt;2 -->\n<g id=\"edge2\" class=\"edge\">\n<title>1&#45;&gt;2</title>\n<path fill=\"none\" stroke=\"#000000\" d=\"M501.898,-1064.6227C549.97,-1094.937 611.7001,-1133.8642 661.2463,-1165.1082\"/>\n<polygon fill=\"#000000\" stroke=\"#000000\" points=\"659.3923,-1168.0768 669.7179,-1170.4504 663.1262,-1162.1558 659.3923,-1168.0768\"/>\n</g>\n<!-- 13 -->\n<g id=\"node14\" class=\"node\">\n<title>13</title>\n<path fill=\"#f5d0b5\" stroke=\"#000000\" d=\"M851,-1064.5C851,-1064.5 644,-1064.5 644,-1064.5 638,-1064.5 632,-1058.5 632,-1052.5 632,-1052.5 632,-978.5 632,-978.5 632,-972.5 638,-966.5 644,-966.5 644,-966.5 851,-966.5 851,-966.5 857,-966.5 863,-972.5 863,-978.5 863,-978.5 863,-1052.5 863,-1052.5 863,-1058.5 857,-1064.5 851,-1064.5\"/>\n<text text-anchor=\"start\" x=\"716.5\" y=\"-1049.3\" font-family=\"Helvetica,sans-Serif\" font-size=\"14.00\" fill=\"#000000\">node #13</text>\n<text text-anchor=\"start\" x=\"640\" y=\"-1034.3\" font-family=\"Helvetica,sans-Serif\" font-size=\"14.00\" fill=\"#000000\">elongation of the rete ridges ≤ 2.5</text>\n<text text-anchor=\"start\" x=\"696.5\" y=\"-1019.3\" font-family=\"Helvetica,sans-Serif\" font-size=\"14.00\" fill=\"#000000\">entropy = 0.961</text>\n<text text-anchor=\"start\" x=\"695.5\" y=\"-1004.3\" font-family=\"Helvetica,sans-Serif\" font-size=\"14.00\" fill=\"#000000\">samples = 5.1%</text>\n<text text-anchor=\"start\" x=\"677.5\" y=\"-989.3\" font-family=\"Helvetica,sans-Serif\" font-size=\"14.00\" fill=\"#000000\">value = [0.615, 0.385]</text>\n<text text-anchor=\"start\" x=\"718.5\" y=\"-974.3\" font-family=\"Helvetica,sans-Serif\" font-size=\"14.00\" fill=\"#000000\">class = 0</text>\n</g>\n<!-- 1&#45;&gt;13 -->\n<g id=\"edge13\" class=\"edge\">\n<title>1&#45;&gt;13</title>\n<path fill=\"none\" stroke=\"#000000\" d=\"M576.2773,-1015.5C591.4566,-1015.5 606.7475,-1015.5 621.6128,-1015.5\"/>\n<polygon fill=\"#000000\" stroke=\"#000000\" points=\"621.8297,-1019.0001 631.8296,-1015.5 621.8296,-1012.0001 621.8297,-1019.0001\"/>\n</g>\n<!-- 3 -->\n<g id=\"node4\" class=\"node\">\n<title>3</title>\n<path fill=\"#eca06a\" stroke=\"#000000\" d=\"M1124.5,-1458.5C1124.5,-1458.5 984.5,-1458.5 984.5,-1458.5 978.5,-1458.5 972.5,-1452.5 972.5,-1446.5 972.5,-1446.5 972.5,-1372.5 972.5,-1372.5 972.5,-1366.5 978.5,-1360.5 984.5,-1360.5 984.5,-1360.5 1124.5,-1360.5 1124.5,-1360.5 1130.5,-1360.5 1136.5,-1366.5 1136.5,-1372.5 1136.5,-1372.5 1136.5,-1446.5 1136.5,-1446.5 1136.5,-1452.5 1130.5,-1458.5 1124.5,-1458.5\"/>\n<text text-anchor=\"start\" x=\"1027.5\" y=\"-1443.3\" font-family=\"Helvetica,sans-Serif\" font-size=\"14.00\" fill=\"#000000\">node #3</text>\n<text text-anchor=\"start\" x=\"980.5\" y=\"-1428.3\" font-family=\"Helvetica,sans-Serif\" font-size=\"14.00\" fill=\"#000000\">band&#45;like infiltrate ≤ 2.5</text>\n<text text-anchor=\"start\" x=\"1003.5\" y=\"-1413.3\" font-family=\"Helvetica,sans-Serif\" font-size=\"14.00\" fill=\"#000000\">entropy = 0.722</text>\n<text text-anchor=\"start\" x=\"1002.5\" y=\"-1398.3\" font-family=\"Helvetica,sans-Serif\" font-size=\"14.00\" fill=\"#000000\">samples = 2.0%</text>\n<text text-anchor=\"start\" x=\"1001\" y=\"-1383.3\" font-family=\"Helvetica,sans-Serif\" font-size=\"14.00\" fill=\"#000000\">value = [0.8, 0.2]</text>\n<text text-anchor=\"start\" x=\"1025.5\" y=\"-1368.3\" font-family=\"Helvetica,sans-Serif\" font-size=\"14.00\" fill=\"#000000\">class = 0</text>\n</g>\n<!-- 2&#45;&gt;3 -->\n<g id=\"edge3\" class=\"edge\">\n<title>2&#45;&gt;3</title>\n<path fill=\"none\" stroke=\"#000000\" d=\"M826.9594,-1268.6768C869.6815,-1295.1172 922.4656,-1327.7849 966.4363,-1354.998\"/>\n<polygon fill=\"#000000\" stroke=\"#000000\" points=\"964.7622,-1358.078 975.1073,-1360.3645 968.446,-1352.1257 964.7622,-1358.078\"/>\n</g>\n<!-- 6 -->\n<g id=\"node7\" class=\"node\">\n<title>6</title>\n<path fill=\"#e5823a\" stroke=\"#000000\" d=\"M1120.5,-1268.5C1120.5,-1268.5 988.5,-1268.5 988.5,-1268.5 982.5,-1268.5 976.5,-1262.5 976.5,-1256.5 976.5,-1256.5 976.5,-1182.5 976.5,-1182.5 976.5,-1176.5 982.5,-1170.5 988.5,-1170.5 988.5,-1170.5 1120.5,-1170.5 1120.5,-1170.5 1126.5,-1170.5 1132.5,-1176.5 1132.5,-1182.5 1132.5,-1182.5 1132.5,-1256.5 1132.5,-1256.5 1132.5,-1262.5 1126.5,-1268.5 1120.5,-1268.5\"/>\n<text text-anchor=\"start\" x=\"1027.5\" y=\"-1253.3\" font-family=\"Helvetica,sans-Serif\" font-size=\"14.00\" fill=\"#000000\">node #6</text>\n<text text-anchor=\"start\" x=\"996\" y=\"-1238.3\" font-family=\"Helvetica,sans-Serif\" font-size=\"14.00\" fill=\"#000000\">PNL infiltrate ≤ 1.5</text>\n<text text-anchor=\"start\" x=\"1003.5\" y=\"-1223.3\" font-family=\"Helvetica,sans-Serif\" font-size=\"14.00\" fill=\"#000000\">entropy = 0.055</text>\n<text text-anchor=\"start\" x=\"998.5\" y=\"-1208.3\" font-family=\"Helvetica,sans-Serif\" font-size=\"14.00\" fill=\"#000000\">samples = 62.5%</text>\n<text text-anchor=\"start\" x=\"984.5\" y=\"-1193.3\" font-family=\"Helvetica,sans-Serif\" font-size=\"14.00\" fill=\"#000000\">value = [0.994, 0.006]</text>\n<text text-anchor=\"start\" x=\"1025.5\" y=\"-1178.3\" font-family=\"Helvetica,sans-Serif\" font-size=\"14.00\" fill=\"#000000\">class = 0</text>\n</g>\n<!-- 2&#45;&gt;6 -->\n<g id=\"edge6\" class=\"edge\">\n<title>2&#45;&gt;6</title>\n<path fill=\"none\" stroke=\"#000000\" d=\"M883.0483,-1219.5C911.2672,-1219.5 940.3067,-1219.5 966.2813,-1219.5\"/>\n<polygon fill=\"#000000\" stroke=\"#000000\" points=\"966.4541,-1223.0001 976.454,-1219.5 966.454,-1216.0001 966.4541,-1223.0001\"/>\n</g>\n<!-- 4 -->\n<g id=\"node5\" class=\"node\">\n<title>4</title>\n<path fill=\"#e58139\" stroke=\"#000000\" d=\"M1384.5,-1552C1384.5,-1552 1285.5,-1552 1285.5,-1552 1279.5,-1552 1273.5,-1546 1273.5,-1540 1273.5,-1540 1273.5,-1481 1273.5,-1481 1273.5,-1475 1279.5,-1469 1285.5,-1469 1285.5,-1469 1384.5,-1469 1384.5,-1469 1390.5,-1469 1396.5,-1475 1396.5,-1481 1396.5,-1481 1396.5,-1540 1396.5,-1540 1396.5,-1546 1390.5,-1552 1384.5,-1552\"/>\n<text text-anchor=\"start\" x=\"1308\" y=\"-1536.8\" font-family=\"Helvetica,sans-Serif\" font-size=\"14.00\" fill=\"#000000\">node #4</text>\n<text text-anchor=\"start\" x=\"1292.5\" y=\"-1521.8\" font-family=\"Helvetica,sans-Serif\" font-size=\"14.00\" fill=\"#000000\">entropy = 0.0</text>\n<text text-anchor=\"start\" x=\"1283\" y=\"-1506.8\" font-family=\"Helvetica,sans-Serif\" font-size=\"14.00\" fill=\"#000000\">samples = 1.6%</text>\n<text text-anchor=\"start\" x=\"1281.5\" y=\"-1491.8\" font-family=\"Helvetica,sans-Serif\" font-size=\"14.00\" fill=\"#000000\">value = [1.0, 0.0]</text>\n<text text-anchor=\"start\" x=\"1306\" y=\"-1476.8\" font-family=\"Helvetica,sans-Serif\" font-size=\"14.00\" fill=\"#000000\">class = 0</text>\n</g>\n<!-- 3&#45;&gt;4 -->\n<g id=\"edge4\" class=\"edge\">\n<title>3&#45;&gt;4</title>\n<path fill=\"none\" stroke=\"#000000\" d=\"M1136.764,-1439.1209C1177.001,-1453.6091 1224.9664,-1470.8801 1263.6366,-1484.8041\"/>\n<polygon fill=\"#000000\" stroke=\"#000000\" points=\"1262.6629,-1488.1734 1273.2573,-1488.2682 1265.0344,-1481.5874 1262.6629,-1488.1734\"/>\n</g>\n<!-- 5 -->\n<g id=\"node6\" class=\"node\">\n<title>5</title>\n<path fill=\"#399de5\" stroke=\"#000000\" d=\"M1384.5,-1451C1384.5,-1451 1285.5,-1451 1285.5,-1451 1279.5,-1451 1273.5,-1445 1273.5,-1439 1273.5,-1439 1273.5,-1380 1273.5,-1380 1273.5,-1374 1279.5,-1368 1285.5,-1368 1285.5,-1368 1384.5,-1368 1384.5,-1368 1390.5,-1368 1396.5,-1374 1396.5,-1380 1396.5,-1380 1396.5,-1439 1396.5,-1439 1396.5,-1445 1390.5,-1451 1384.5,-1451\"/>\n<text text-anchor=\"start\" x=\"1308\" y=\"-1435.8\" font-family=\"Helvetica,sans-Serif\" font-size=\"14.00\" fill=\"#000000\">node #5</text>\n<text text-anchor=\"start\" x=\"1292.5\" y=\"-1420.8\" font-family=\"Helvetica,sans-Serif\" font-size=\"14.00\" fill=\"#000000\">entropy = 0.0</text>\n<text text-anchor=\"start\" x=\"1283\" y=\"-1405.8\" font-family=\"Helvetica,sans-Serif\" font-size=\"14.00\" fill=\"#000000\">samples = 0.4%</text>\n<text text-anchor=\"start\" x=\"1281.5\" y=\"-1390.8\" font-family=\"Helvetica,sans-Serif\" font-size=\"14.00\" fill=\"#000000\">value = [0.0, 1.0]</text>\n<text text-anchor=\"start\" x=\"1306\" y=\"-1375.8\" font-family=\"Helvetica,sans-Serif\" font-size=\"14.00\" fill=\"#000000\">class = 1</text>\n</g>\n<!-- 3&#45;&gt;5 -->\n<g id=\"edge5\" class=\"edge\">\n<title>3&#45;&gt;5</title>\n<path fill=\"none\" stroke=\"#000000\" d=\"M1136.764,-1409.5C1176.8305,-1409.5 1224.5601,-1409.5 1263.1445,-1409.5\"/>\n<polygon fill=\"#000000\" stroke=\"#000000\" points=\"1263.2574,-1413.0001 1273.2573,-1409.5 1263.2573,-1406.0001 1263.2574,-1413.0001\"/>\n</g>\n<!-- 7 -->\n<g id=\"node8\" class=\"node\">\n<title>7</title>\n<path fill=\"#e58139\" stroke=\"#000000\" d=\"M1387,-1350C1387,-1350 1283,-1350 1283,-1350 1277,-1350 1271,-1344 1271,-1338 1271,-1338 1271,-1279 1271,-1279 1271,-1273 1277,-1267 1283,-1267 1283,-1267 1387,-1267 1387,-1267 1393,-1267 1399,-1273 1399,-1279 1399,-1279 1399,-1338 1399,-1338 1399,-1344 1393,-1350 1387,-1350\"/>\n<text text-anchor=\"start\" x=\"1308\" y=\"-1334.8\" font-family=\"Helvetica,sans-Serif\" font-size=\"14.00\" fill=\"#000000\">node #7</text>\n<text text-anchor=\"start\" x=\"1292.5\" y=\"-1319.8\" font-family=\"Helvetica,sans-Serif\" font-size=\"14.00\" fill=\"#000000\">entropy = 0.0</text>\n<text text-anchor=\"start\" x=\"1279\" y=\"-1304.8\" font-family=\"Helvetica,sans-Serif\" font-size=\"14.00\" fill=\"#000000\">samples = 55.9%</text>\n<text text-anchor=\"start\" x=\"1281.5\" y=\"-1289.8\" font-family=\"Helvetica,sans-Serif\" font-size=\"14.00\" fill=\"#000000\">value = [1.0, 0.0]</text>\n<text text-anchor=\"start\" x=\"1306\" y=\"-1274.8\" font-family=\"Helvetica,sans-Serif\" font-size=\"14.00\" fill=\"#000000\">class = 0</text>\n</g>\n<!-- 6&#45;&gt;7 -->\n<g id=\"edge7\" class=\"edge\">\n<title>6&#45;&gt;7</title>\n<path fill=\"none\" stroke=\"#000000\" d=\"M1132.6349,-1244.2915C1172.9195,-1257.0734 1221.7723,-1272.5739 1261.3854,-1285.1428\"/>\n<polygon fill=\"#000000\" stroke=\"#000000\" points=\"1260.3953,-1288.5005 1270.9855,-1288.1888 1262.5123,-1281.8283 1260.3953,-1288.5005\"/>\n</g>\n<!-- 8 -->\n<g id=\"node9\" class=\"node\">\n<title>8</title>\n<path fill=\"#e78945\" stroke=\"#000000\" d=\"M1401,-1248.5C1401,-1248.5 1269,-1248.5 1269,-1248.5 1263,-1248.5 1257,-1242.5 1257,-1236.5 1257,-1236.5 1257,-1162.5 1257,-1162.5 1257,-1156.5 1263,-1150.5 1269,-1150.5 1269,-1150.5 1401,-1150.5 1401,-1150.5 1407,-1150.5 1413,-1156.5 1413,-1162.5 1413,-1162.5 1413,-1236.5 1413,-1236.5 1413,-1242.5 1407,-1248.5 1401,-1248.5\"/>\n<text text-anchor=\"start\" x=\"1308\" y=\"-1233.3\" font-family=\"Helvetica,sans-Serif\" font-size=\"14.00\" fill=\"#000000\">node #8</text>\n<text text-anchor=\"start\" x=\"1282\" y=\"-1218.3\" font-family=\"Helvetica,sans-Serif\" font-size=\"14.00\" fill=\"#000000\">spongiosis ≤ 2.5</text>\n<text text-anchor=\"start\" x=\"1284\" y=\"-1203.3\" font-family=\"Helvetica,sans-Serif\" font-size=\"14.00\" fill=\"#000000\">entropy = 0.323</text>\n<text text-anchor=\"start\" x=\"1283\" y=\"-1188.3\" font-family=\"Helvetica,sans-Serif\" font-size=\"14.00\" fill=\"#000000\">samples = 6.6%</text>\n<text text-anchor=\"start\" x=\"1265\" y=\"-1173.3\" font-family=\"Helvetica,sans-Serif\" font-size=\"14.00\" fill=\"#000000\">value = [0.941, 0.059]</text>\n<text text-anchor=\"start\" x=\"1306\" y=\"-1158.3\" font-family=\"Helvetica,sans-Serif\" font-size=\"14.00\" fill=\"#000000\">class = 0</text>\n</g>\n<!-- 6&#45;&gt;8 -->\n<g id=\"edge8\" class=\"edge\">\n<title>6&#45;&gt;8</title>\n<path fill=\"none\" stroke=\"#000000\" d=\"M1132.6349,-1213.9289C1168.0485,-1211.4039 1210.0834,-1208.4067 1246.642,-1205.8\"/>\n<polygon fill=\"#000000\" stroke=\"#000000\" points=\"1247.0724,-1209.2783 1256.7981,-1205.0759 1246.5745,-1202.2961 1247.0724,-1209.2783\"/>\n</g>\n<!-- 9 -->\n<g id=\"node10\" class=\"node\">\n<title>9</title>\n<path fill=\"#e58139\" stroke=\"#000000\" d=\"M1670,-1295C1670,-1295 1571,-1295 1571,-1295 1565,-1295 1559,-1289 1559,-1283 1559,-1283 1559,-1224 1559,-1224 1559,-1218 1565,-1212 1571,-1212 1571,-1212 1670,-1212 1670,-1212 1676,-1212 1682,-1218 1682,-1224 1682,-1224 1682,-1283 1682,-1283 1682,-1289 1676,-1295 1670,-1295\"/>\n<text text-anchor=\"start\" x=\"1593.5\" y=\"-1279.8\" font-family=\"Helvetica,sans-Serif\" font-size=\"14.00\" fill=\"#000000\">node #9</text>\n<text text-anchor=\"start\" x=\"1578\" y=\"-1264.8\" font-family=\"Helvetica,sans-Serif\" font-size=\"14.00\" fill=\"#000000\">entropy = 0.0</text>\n<text text-anchor=\"start\" x=\"1568.5\" y=\"-1249.8\" font-family=\"Helvetica,sans-Serif\" font-size=\"14.00\" fill=\"#000000\">samples = 5.5%</text>\n<text text-anchor=\"start\" x=\"1567\" y=\"-1234.8\" font-family=\"Helvetica,sans-Serif\" font-size=\"14.00\" fill=\"#000000\">value = [1.0, 0.0]</text>\n<text text-anchor=\"start\" x=\"1591.5\" y=\"-1219.8\" font-family=\"Helvetica,sans-Serif\" font-size=\"14.00\" fill=\"#000000\">class = 0</text>\n</g>\n<!-- 8&#45;&gt;9 -->\n<g id=\"edge9\" class=\"edge\">\n<title>8&#45;&gt;9</title>\n<path fill=\"none\" stroke=\"#000000\" d=\"M1413.0141,-1214.2557C1455.4158,-1222.2757 1507.4853,-1232.1242 1548.8549,-1239.9489\"/>\n<polygon fill=\"#000000\" stroke=\"#000000\" points=\"1548.3821,-1243.4215 1558.8583,-1241.841 1549.683,-1236.5434 1548.3821,-1243.4215\"/>\n</g>\n<!-- 10 -->\n<g id=\"node11\" class=\"node\">\n<title>10</title>\n<path fill=\"#f2c09c\" stroke=\"#000000\" d=\"M1686.5,-1193.5C1686.5,-1193.5 1554.5,-1193.5 1554.5,-1193.5 1548.5,-1193.5 1542.5,-1187.5 1542.5,-1181.5 1542.5,-1181.5 1542.5,-1107.5 1542.5,-1107.5 1542.5,-1101.5 1548.5,-1095.5 1554.5,-1095.5 1554.5,-1095.5 1686.5,-1095.5 1686.5,-1095.5 1692.5,-1095.5 1698.5,-1101.5 1698.5,-1107.5 1698.5,-1107.5 1698.5,-1181.5 1698.5,-1181.5 1698.5,-1187.5 1692.5,-1193.5 1686.5,-1193.5\"/>\n<text text-anchor=\"start\" x=\"1589.5\" y=\"-1178.3\" font-family=\"Helvetica,sans-Serif\" font-size=\"14.00\" fill=\"#000000\">node #10</text>\n<text text-anchor=\"start\" x=\"1586\" y=\"-1163.3\" font-family=\"Helvetica,sans-Serif\" font-size=\"14.00\" fill=\"#000000\">age ≤ 53.0</text>\n<text text-anchor=\"start\" x=\"1569.5\" y=\"-1148.3\" font-family=\"Helvetica,sans-Serif\" font-size=\"14.00\" fill=\"#000000\">entropy = 0.918</text>\n<text text-anchor=\"start\" x=\"1568.5\" y=\"-1133.3\" font-family=\"Helvetica,sans-Serif\" font-size=\"14.00\" fill=\"#000000\">samples = 1.2%</text>\n<text text-anchor=\"start\" x=\"1550.5\" y=\"-1118.3\" font-family=\"Helvetica,sans-Serif\" font-size=\"14.00\" fill=\"#000000\">value = [0.667, 0.333]</text>\n<text text-anchor=\"start\" x=\"1591.5\" y=\"-1103.3\" font-family=\"Helvetica,sans-Serif\" font-size=\"14.00\" fill=\"#000000\">class = 0</text>\n</g>\n<!-- 8&#45;&gt;10 -->\n<g id=\"edge10\" class=\"edge\">\n<title>8&#45;&gt;10</title>\n<path fill=\"none\" stroke=\"#000000\" d=\"M1413.0141,-1184.471C1449.8424,-1177.3762 1493.964,-1168.8765 1532.0333,-1161.5426\"/>\n<polygon fill=\"#000000\" stroke=\"#000000\" points=\"1532.9273,-1164.9348 1542.0846,-1159.6063 1531.6031,-1158.0612 1532.9273,-1164.9348\"/>\n</g>\n<!-- 11 -->\n<g id=\"node12\" class=\"node\">\n<title>11</title>\n<path fill=\"#e58139\" stroke=\"#000000\" d=\"M1982,-1237C1982,-1237 1883,-1237 1883,-1237 1877,-1237 1871,-1231 1871,-1225 1871,-1225 1871,-1166 1871,-1166 1871,-1160 1877,-1154 1883,-1154 1883,-1154 1982,-1154 1982,-1154 1988,-1154 1994,-1160 1994,-1166 1994,-1166 1994,-1225 1994,-1225 1994,-1231 1988,-1237 1982,-1237\"/>\n<text text-anchor=\"start\" x=\"1901.5\" y=\"-1221.8\" font-family=\"Helvetica,sans-Serif\" font-size=\"14.00\" fill=\"#000000\">node #11</text>\n<text text-anchor=\"start\" x=\"1890\" y=\"-1206.8\" font-family=\"Helvetica,sans-Serif\" font-size=\"14.00\" fill=\"#000000\">entropy = 0.0</text>\n<text text-anchor=\"start\" x=\"1880.5\" y=\"-1191.8\" font-family=\"Helvetica,sans-Serif\" font-size=\"14.00\" fill=\"#000000\">samples = 0.8%</text>\n<text text-anchor=\"start\" x=\"1879\" y=\"-1176.8\" font-family=\"Helvetica,sans-Serif\" font-size=\"14.00\" fill=\"#000000\">value = [1.0, 0.0]</text>\n<text text-anchor=\"start\" x=\"1903.5\" y=\"-1161.8\" font-family=\"Helvetica,sans-Serif\" font-size=\"14.00\" fill=\"#000000\">class = 0</text>\n</g>\n<!-- 10&#45;&gt;11 -->\n<g id=\"edge11\" class=\"edge\">\n<title>10&#45;&gt;11</title>\n<path fill=\"none\" stroke=\"#000000\" d=\"M1698.8281,-1157.3036C1748.542,-1165.4299 1812.385,-1175.8658 1860.7722,-1183.7753\"/>\n<polygon fill=\"#000000\" stroke=\"#000000\" points=\"1860.4186,-1187.2638 1870.8523,-1185.423 1861.5479,-1180.3555 1860.4186,-1187.2638\"/>\n</g>\n<!-- 12 -->\n<g id=\"node13\" class=\"node\">\n<title>12</title>\n<path fill=\"#399de5\" stroke=\"#000000\" d=\"M1982,-1136C1982,-1136 1883,-1136 1883,-1136 1877,-1136 1871,-1130 1871,-1124 1871,-1124 1871,-1065 1871,-1065 1871,-1059 1877,-1053 1883,-1053 1883,-1053 1982,-1053 1982,-1053 1988,-1053 1994,-1059 1994,-1065 1994,-1065 1994,-1124 1994,-1124 1994,-1130 1988,-1136 1982,-1136\"/>\n<text text-anchor=\"start\" x=\"1901.5\" y=\"-1120.8\" font-family=\"Helvetica,sans-Serif\" font-size=\"14.00\" fill=\"#000000\">node #12</text>\n<text text-anchor=\"start\" x=\"1890\" y=\"-1105.8\" font-family=\"Helvetica,sans-Serif\" font-size=\"14.00\" fill=\"#000000\">entropy = 0.0</text>\n<text text-anchor=\"start\" x=\"1880.5\" y=\"-1090.8\" font-family=\"Helvetica,sans-Serif\" font-size=\"14.00\" fill=\"#000000\">samples = 0.4%</text>\n<text text-anchor=\"start\" x=\"1879\" y=\"-1075.8\" font-family=\"Helvetica,sans-Serif\" font-size=\"14.00\" fill=\"#000000\">value = [0.0, 1.0]</text>\n<text text-anchor=\"start\" x=\"1903.5\" y=\"-1060.8\" font-family=\"Helvetica,sans-Serif\" font-size=\"14.00\" fill=\"#000000\">class = 1</text>\n</g>\n<!-- 10&#45;&gt;12 -->\n<g id=\"edge12\" class=\"edge\">\n<title>10&#45;&gt;12</title>\n<path fill=\"none\" stroke=\"#000000\" d=\"M1698.8281,-1131.9474C1748.542,-1123.9805 1812.385,-1113.7492 1860.7722,-1105.9948\"/>\n<polygon fill=\"#000000\" stroke=\"#000000\" points=\"1861.5321,-1109.4178 1870.8523,-1104.3794 1860.4244,-1102.506 1861.5321,-1109.4178\"/>\n</g>\n<!-- 14 -->\n<g id=\"node15\" class=\"node\">\n<title>14</title>\n<path fill=\"#88c4ef\" stroke=\"#000000\" d=\"M1130,-1119.5C1130,-1119.5 979,-1119.5 979,-1119.5 973,-1119.5 967,-1113.5 967,-1107.5 967,-1107.5 967,-1033.5 967,-1033.5 967,-1027.5 973,-1021.5 979,-1021.5 979,-1021.5 1130,-1021.5 1130,-1021.5 1136,-1021.5 1142,-1027.5 1142,-1033.5 1142,-1033.5 1142,-1107.5 1142,-1107.5 1142,-1113.5 1136,-1119.5 1130,-1119.5\"/>\n<text text-anchor=\"start\" x=\"1023.5\" y=\"-1104.3\" font-family=\"Helvetica,sans-Serif\" font-size=\"14.00\" fill=\"#000000\">node #14</text>\n<text text-anchor=\"start\" x=\"975\" y=\"-1089.3\" font-family=\"Helvetica,sans-Serif\" font-size=\"14.00\" fill=\"#000000\">spongiform pustule ≤ 1.5</text>\n<text text-anchor=\"start\" x=\"1003.5\" y=\"-1074.3\" font-family=\"Helvetica,sans-Serif\" font-size=\"14.00\" fill=\"#000000\">entropy = 0.863</text>\n<text text-anchor=\"start\" x=\"1002.5\" y=\"-1059.3\" font-family=\"Helvetica,sans-Serif\" font-size=\"14.00\" fill=\"#000000\">samples = 2.7%</text>\n<text text-anchor=\"start\" x=\"984.5\" y=\"-1044.3\" font-family=\"Helvetica,sans-Serif\" font-size=\"14.00\" fill=\"#000000\">value = [0.286, 0.714]</text>\n<text text-anchor=\"start\" x=\"1025.5\" y=\"-1029.3\" font-family=\"Helvetica,sans-Serif\" font-size=\"14.00\" fill=\"#000000\">class = 1</text>\n</g>\n<!-- 13&#45;&gt;14 -->\n<g id=\"edge14\" class=\"edge\">\n<title>13&#45;&gt;14</title>\n<path fill=\"none\" stroke=\"#000000\" d=\"M863.1261,-1036.2148C893.9732,-1041.7411 926.9969,-1047.6574 956.7784,-1052.9929\"/>\n<polygon fill=\"#000000\" stroke=\"#000000\" points=\"956.2855,-1056.4602 966.7461,-1054.7786 957.52,-1049.5699 956.2855,-1056.4602\"/>\n</g>\n<!-- 17 -->\n<g id=\"node18\" class=\"node\">\n<title>17</title>\n<path fill=\"#e58139\" stroke=\"#000000\" d=\"M1104,-1003C1104,-1003 1005,-1003 1005,-1003 999,-1003 993,-997 993,-991 993,-991 993,-932 993,-932 993,-926 999,-920 1005,-920 1005,-920 1104,-920 1104,-920 1110,-920 1116,-926 1116,-932 1116,-932 1116,-991 1116,-991 1116,-997 1110,-1003 1104,-1003\"/>\n<text text-anchor=\"start\" x=\"1023.5\" y=\"-987.8\" font-family=\"Helvetica,sans-Serif\" font-size=\"14.00\" fill=\"#000000\">node #17</text>\n<text text-anchor=\"start\" x=\"1012\" y=\"-972.8\" font-family=\"Helvetica,sans-Serif\" font-size=\"14.00\" fill=\"#000000\">entropy = 0.0</text>\n<text text-anchor=\"start\" x=\"1002.5\" y=\"-957.8\" font-family=\"Helvetica,sans-Serif\" font-size=\"14.00\" fill=\"#000000\">samples = 2.3%</text>\n<text text-anchor=\"start\" x=\"1001\" y=\"-942.8\" font-family=\"Helvetica,sans-Serif\" font-size=\"14.00\" fill=\"#000000\">value = [1.0, 0.0]</text>\n<text text-anchor=\"start\" x=\"1025.5\" y=\"-927.8\" font-family=\"Helvetica,sans-Serif\" font-size=\"14.00\" fill=\"#000000\">class = 0</text>\n</g>\n<!-- 13&#45;&gt;17 -->\n<g id=\"edge17\" class=\"edge\">\n<title>13&#45;&gt;17</title>\n<path fill=\"none\" stroke=\"#000000\" d=\"M863.1261,-995.1619C903.1934,-988.1142 946.933,-980.4206 982.4699,-974.1698\"/>\n<polygon fill=\"#000000\" stroke=\"#000000\" points=\"983.5001,-977.5424 992.7425,-972.3629 982.2874,-970.6482 983.5001,-977.5424\"/>\n</g>\n<!-- 15 -->\n<g id=\"node16\" class=\"node\">\n<title>15</title>\n<path fill=\"#399de5\" stroke=\"#000000\" d=\"M1384.5,-1132C1384.5,-1132 1285.5,-1132 1285.5,-1132 1279.5,-1132 1273.5,-1126 1273.5,-1120 1273.5,-1120 1273.5,-1061 1273.5,-1061 1273.5,-1055 1279.5,-1049 1285.5,-1049 1285.5,-1049 1384.5,-1049 1384.5,-1049 1390.5,-1049 1396.5,-1055 1396.5,-1061 1396.5,-1061 1396.5,-1120 1396.5,-1120 1396.5,-1126 1390.5,-1132 1384.5,-1132\"/>\n<text text-anchor=\"start\" x=\"1304\" y=\"-1116.8\" font-family=\"Helvetica,sans-Serif\" font-size=\"14.00\" fill=\"#000000\">node #15</text>\n<text text-anchor=\"start\" x=\"1292.5\" y=\"-1101.8\" font-family=\"Helvetica,sans-Serif\" font-size=\"14.00\" fill=\"#000000\">entropy = 0.0</text>\n<text text-anchor=\"start\" x=\"1283\" y=\"-1086.8\" font-family=\"Helvetica,sans-Serif\" font-size=\"14.00\" fill=\"#000000\">samples = 2.0%</text>\n<text text-anchor=\"start\" x=\"1281.5\" y=\"-1071.8\" font-family=\"Helvetica,sans-Serif\" font-size=\"14.00\" fill=\"#000000\">value = [0.0, 1.0]</text>\n<text text-anchor=\"start\" x=\"1306\" y=\"-1056.8\" font-family=\"Helvetica,sans-Serif\" font-size=\"14.00\" fill=\"#000000\">class = 1</text>\n</g>\n<!-- 14&#45;&gt;15 -->\n<g id=\"edge15\" class=\"edge\">\n<title>14&#45;&gt;15</title>\n<path fill=\"none\" stroke=\"#000000\" d=\"M1142.0981,-1076.7459C1181.0351,-1079.5221 1226.3057,-1082.75 1263.2022,-1085.3807\"/>\n<polygon fill=\"#000000\" stroke=\"#000000\" points=\"1263.151,-1088.8859 1273.3746,-1086.106 1263.6489,-1081.9036 1263.151,-1088.8859\"/>\n</g>\n<!-- 16 -->\n<g id=\"node17\" class=\"node\">\n<title>16</title>\n<path fill=\"#e58139\" stroke=\"#000000\" d=\"M1384.5,-1031C1384.5,-1031 1285.5,-1031 1285.5,-1031 1279.5,-1031 1273.5,-1025 1273.5,-1019 1273.5,-1019 1273.5,-960 1273.5,-960 1273.5,-954 1279.5,-948 1285.5,-948 1285.5,-948 1384.5,-948 1384.5,-948 1390.5,-948 1396.5,-954 1396.5,-960 1396.5,-960 1396.5,-1019 1396.5,-1019 1396.5,-1025 1390.5,-1031 1384.5,-1031\"/>\n<text text-anchor=\"start\" x=\"1304\" y=\"-1015.8\" font-family=\"Helvetica,sans-Serif\" font-size=\"14.00\" fill=\"#000000\">node #16</text>\n<text text-anchor=\"start\" x=\"1292.5\" y=\"-1000.8\" font-family=\"Helvetica,sans-Serif\" font-size=\"14.00\" fill=\"#000000\">entropy = 0.0</text>\n<text text-anchor=\"start\" x=\"1283\" y=\"-985.8\" font-family=\"Helvetica,sans-Serif\" font-size=\"14.00\" fill=\"#000000\">samples = 0.8%</text>\n<text text-anchor=\"start\" x=\"1281.5\" y=\"-970.8\" font-family=\"Helvetica,sans-Serif\" font-size=\"14.00\" fill=\"#000000\">value = [1.0, 0.0]</text>\n<text text-anchor=\"start\" x=\"1306\" y=\"-955.8\" font-family=\"Helvetica,sans-Serif\" font-size=\"14.00\" fill=\"#000000\">class = 0</text>\n</g>\n<!-- 14&#45;&gt;16 -->\n<g id=\"edge16\" class=\"edge\">\n<title>14&#45;&gt;16</title>\n<path fill=\"none\" stroke=\"#000000\" d=\"M1142.0981,-1045.2043C1181.2015,-1033.9124 1226.6928,-1020.7759 1263.6748,-1010.0966\"/>\n<polygon fill=\"#000000\" stroke=\"#000000\" points=\"1264.7382,-1013.4326 1273.3746,-1007.2956 1262.7961,-1006.7074 1264.7382,-1013.4326\"/>\n</g>\n<!-- 19 -->\n<g id=\"node20\" class=\"node\">\n<title>19</title>\n<path fill=\"#b3d9f5\" stroke=\"#000000\" d=\"M813.5,-791.5C813.5,-791.5 681.5,-791.5 681.5,-791.5 675.5,-791.5 669.5,-785.5 669.5,-779.5 669.5,-779.5 669.5,-705.5 669.5,-705.5 669.5,-699.5 675.5,-693.5 681.5,-693.5 681.5,-693.5 813.5,-693.5 813.5,-693.5 819.5,-693.5 825.5,-699.5 825.5,-705.5 825.5,-705.5 825.5,-779.5 825.5,-779.5 825.5,-785.5 819.5,-791.5 813.5,-791.5\"/>\n<text text-anchor=\"start\" x=\"716.5\" y=\"-776.3\" font-family=\"Helvetica,sans-Serif\" font-size=\"14.00\" fill=\"#000000\">node #19</text>\n<text text-anchor=\"start\" x=\"706.5\" y=\"-761.3\" font-family=\"Helvetica,sans-Serif\" font-size=\"14.00\" fill=\"#000000\">scaling ≤ 1.5</text>\n<text text-anchor=\"start\" x=\"696.5\" y=\"-746.3\" font-family=\"Helvetica,sans-Serif\" font-size=\"14.00\" fill=\"#000000\">entropy = 0.959</text>\n<text text-anchor=\"start\" x=\"695.5\" y=\"-731.3\" font-family=\"Helvetica,sans-Serif\" font-size=\"14.00\" fill=\"#000000\">samples = 8.2%</text>\n<text text-anchor=\"start\" x=\"677.5\" y=\"-716.3\" font-family=\"Helvetica,sans-Serif\" font-size=\"14.00\" fill=\"#000000\">value = [0.381, 0.619]</text>\n<text text-anchor=\"start\" x=\"718.5\" y=\"-701.3\" font-family=\"Helvetica,sans-Serif\" font-size=\"14.00\" fill=\"#000000\">class = 1</text>\n</g>\n<!-- 18&#45;&gt;19 -->\n<g id=\"edge19\" class=\"edge\">\n<title>18&#45;&gt;19</title>\n<path fill=\"none\" stroke=\"#000000\" d=\"M502.3103,-742.5C549.6204,-742.5 610.0452,-742.5 659.0711,-742.5\"/>\n<polygon fill=\"#000000\" stroke=\"#000000\" points=\"659.3509,-746.0001 669.3508,-742.5 659.3508,-739.0001 659.3509,-746.0001\"/>\n</g>\n<!-- 32 -->\n<g id=\"node33\" class=\"node\">\n<title>32</title>\n<path fill=\"#edaa79\" stroke=\"#000000\" d=\"M844.5,-621.5C844.5,-621.5 650.5,-621.5 650.5,-621.5 644.5,-621.5 638.5,-615.5 638.5,-609.5 638.5,-609.5 638.5,-535.5 638.5,-535.5 638.5,-529.5 644.5,-523.5 650.5,-523.5 650.5,-523.5 844.5,-523.5 844.5,-523.5 850.5,-523.5 856.5,-529.5 856.5,-535.5 856.5,-535.5 856.5,-609.5 856.5,-609.5 856.5,-615.5 850.5,-621.5 844.5,-621.5\"/>\n<text text-anchor=\"start\" x=\"716.5\" y=\"-606.3\" font-family=\"Helvetica,sans-Serif\" font-size=\"14.00\" fill=\"#000000\">node #32</text>\n<text text-anchor=\"start\" x=\"646.5\" y=\"-591.3\" font-family=\"Helvetica,sans-Serif\" font-size=\"14.00\" fill=\"#000000\">clubbing of the rete ridges ≤ 1.5</text>\n<text text-anchor=\"start\" x=\"696.5\" y=\"-576.3\" font-family=\"Helvetica,sans-Serif\" font-size=\"14.00\" fill=\"#000000\">entropy = 0.804</text>\n<text text-anchor=\"start\" x=\"691.5\" y=\"-561.3\" font-family=\"Helvetica,sans-Serif\" font-size=\"14.00\" fill=\"#000000\">samples = 22.3%</text>\n<text text-anchor=\"start\" x=\"677.5\" y=\"-546.3\" font-family=\"Helvetica,sans-Serif\" font-size=\"14.00\" fill=\"#000000\">value = [0.754, 0.246]</text>\n<text text-anchor=\"start\" x=\"718.5\" y=\"-531.3\" font-family=\"Helvetica,sans-Serif\" font-size=\"14.00\" fill=\"#000000\">class = 0</text>\n</g>\n<!-- 18&#45;&gt;32 -->\n<g id=\"edge32\" class=\"edge\">\n<title>18&#45;&gt;32</title>\n<path fill=\"none\" stroke=\"#000000\" d=\"M502.3103,-701.3477C545.1728,-678.8234 598.7999,-650.6423 644.9623,-626.3838\"/>\n<polygon fill=\"#000000\" stroke=\"#000000\" points=\"646.8658,-629.3374 654.0898,-621.5873 643.6095,-623.1409 646.8658,-629.3374\"/>\n</g>\n<!-- 20 -->\n<g id=\"node21\" class=\"node\">\n<title>20</title>\n<path fill=\"#ea9a61\" stroke=\"#000000\" d=\"M1178,-848.5C1178,-848.5 931,-848.5 931,-848.5 925,-848.5 919,-842.5 919,-836.5 919,-836.5 919,-762.5 919,-762.5 919,-756.5 925,-750.5 931,-750.5 931,-750.5 1178,-750.5 1178,-750.5 1184,-750.5 1190,-756.5 1190,-762.5 1190,-762.5 1190,-836.5 1190,-836.5 1190,-842.5 1184,-848.5 1178,-848.5\"/>\n<text text-anchor=\"start\" x=\"1023.5\" y=\"-833.3\" font-family=\"Helvetica,sans-Serif\" font-size=\"14.00\" fill=\"#000000\">node #20</text>\n<text text-anchor=\"start\" x=\"927\" y=\"-818.3\" font-family=\"Helvetica,sans-Serif\" font-size=\"14.00\" fill=\"#000000\">inflammatory monoluclear inflitrate ≤ 1.5</text>\n<text text-anchor=\"start\" x=\"1007.5\" y=\"-803.3\" font-family=\"Helvetica,sans-Serif\" font-size=\"14.00\" fill=\"#000000\">entropy = 0.65</text>\n<text text-anchor=\"start\" x=\"1002.5\" y=\"-788.3\" font-family=\"Helvetica,sans-Serif\" font-size=\"14.00\" fill=\"#000000\">samples = 2.3%</text>\n<text text-anchor=\"start\" x=\"984.5\" y=\"-773.3\" font-family=\"Helvetica,sans-Serif\" font-size=\"14.00\" fill=\"#000000\">value = [0.833, 0.167]</text>\n<text text-anchor=\"start\" x=\"1025.5\" y=\"-758.3\" font-family=\"Helvetica,sans-Serif\" font-size=\"14.00\" fill=\"#000000\">class = 0</text>\n</g>\n<!-- 19&#45;&gt;20 -->\n<g id=\"edge20\" class=\"edge\">\n<title>19&#45;&gt;20</title>\n<path fill=\"none\" stroke=\"#000000\" d=\"M825.7634,-757.031C851.11,-761.737 880.0927,-767.1182 908.7167,-772.4327\"/>\n<polygon fill=\"#000000\" stroke=\"#000000\" points=\"908.3489,-775.9242 918.8199,-774.3086 909.6268,-769.0418 908.3489,-775.9242\"/>\n</g>\n<!-- 23 -->\n<g id=\"node24\" class=\"node\">\n<title>23</title>\n<path fill=\"#6ab6ec\" stroke=\"#000000\" d=\"M1160.5,-732.5C1160.5,-732.5 948.5,-732.5 948.5,-732.5 942.5,-732.5 936.5,-726.5 936.5,-720.5 936.5,-720.5 936.5,-646.5 936.5,-646.5 936.5,-640.5 942.5,-634.5 948.5,-634.5 948.5,-634.5 1160.5,-634.5 1160.5,-634.5 1166.5,-634.5 1172.5,-640.5 1172.5,-646.5 1172.5,-646.5 1172.5,-720.5 1172.5,-720.5 1172.5,-726.5 1166.5,-732.5 1160.5,-732.5\"/>\n<text text-anchor=\"start\" x=\"1023.5\" y=\"-717.3\" font-family=\"Helvetica,sans-Serif\" font-size=\"14.00\" fill=\"#000000\">node #23</text>\n<text text-anchor=\"start\" x=\"944.5\" y=\"-702.3\" font-family=\"Helvetica,sans-Serif\" font-size=\"14.00\" fill=\"#000000\">knee and elbow involvement ≤ 1.5</text>\n<text text-anchor=\"start\" x=\"1003.5\" y=\"-687.3\" font-family=\"Helvetica,sans-Serif\" font-size=\"14.00\" fill=\"#000000\">entropy = 0.722</text>\n<text text-anchor=\"start\" x=\"1002.5\" y=\"-672.3\" font-family=\"Helvetica,sans-Serif\" font-size=\"14.00\" fill=\"#000000\">samples = 5.9%</text>\n<text text-anchor=\"start\" x=\"1001\" y=\"-657.3\" font-family=\"Helvetica,sans-Serif\" font-size=\"14.00\" fill=\"#000000\">value = [0.2, 0.8]</text>\n<text text-anchor=\"start\" x=\"1025.5\" y=\"-642.3\" font-family=\"Helvetica,sans-Serif\" font-size=\"14.00\" fill=\"#000000\">class = 1</text>\n</g>\n<!-- 19&#45;&gt;23 -->\n<g id=\"edge23\" class=\"edge\">\n<title>19&#45;&gt;23</title>\n<path fill=\"none\" stroke=\"#000000\" d=\"M825.7634,-727.4592C856.3225,-721.5862 892.1671,-714.6975 926.2961,-708.1385\"/>\n<polygon fill=\"#000000\" stroke=\"#000000\" points=\"927.1864,-711.5316 936.3461,-706.2071 925.8652,-704.6574 927.1864,-711.5316\"/>\n</g>\n<!-- 21 -->\n<g id=\"node22\" class=\"node\">\n<title>21</title>\n<path fill=\"#e58139\" stroke=\"#000000\" d=\"M1384.5,-930C1384.5,-930 1285.5,-930 1285.5,-930 1279.5,-930 1273.5,-924 1273.5,-918 1273.5,-918 1273.5,-859 1273.5,-859 1273.5,-853 1279.5,-847 1285.5,-847 1285.5,-847 1384.5,-847 1384.5,-847 1390.5,-847 1396.5,-853 1396.5,-859 1396.5,-859 1396.5,-918 1396.5,-918 1396.5,-924 1390.5,-930 1384.5,-930\"/>\n<text text-anchor=\"start\" x=\"1304\" y=\"-914.8\" font-family=\"Helvetica,sans-Serif\" font-size=\"14.00\" fill=\"#000000\">node #21</text>\n<text text-anchor=\"start\" x=\"1292.5\" y=\"-899.8\" font-family=\"Helvetica,sans-Serif\" font-size=\"14.00\" fill=\"#000000\">entropy = 0.0</text>\n<text text-anchor=\"start\" x=\"1283\" y=\"-884.8\" font-family=\"Helvetica,sans-Serif\" font-size=\"14.00\" fill=\"#000000\">samples = 2.0%</text>\n<text text-anchor=\"start\" x=\"1281.5\" y=\"-869.8\" font-family=\"Helvetica,sans-Serif\" font-size=\"14.00\" fill=\"#000000\">value = [1.0, 0.0]</text>\n<text text-anchor=\"start\" x=\"1306\" y=\"-854.8\" font-family=\"Helvetica,sans-Serif\" font-size=\"14.00\" fill=\"#000000\">class = 0</text>\n</g>\n<!-- 20&#45;&gt;21 -->\n<g id=\"edge21\" class=\"edge\">\n<title>20&#45;&gt;21</title>\n<path fill=\"none\" stroke=\"#000000\" d=\"M1190.2309,-842.5661C1215.5683,-850.6055 1241.1026,-858.7073 1263.5214,-865.8205\"/>\n<polygon fill=\"#000000\" stroke=\"#000000\" points=\"1262.6684,-869.2218 1273.2587,-868.9101 1264.7855,-862.5496 1262.6684,-869.2218\"/>\n</g>\n<!-- 22 -->\n<g id=\"node23\" class=\"node\">\n<title>22</title>\n<path fill=\"#399de5\" stroke=\"#000000\" d=\"M1384.5,-829C1384.5,-829 1285.5,-829 1285.5,-829 1279.5,-829 1273.5,-823 1273.5,-817 1273.5,-817 1273.5,-758 1273.5,-758 1273.5,-752 1279.5,-746 1285.5,-746 1285.5,-746 1384.5,-746 1384.5,-746 1390.5,-746 1396.5,-752 1396.5,-758 1396.5,-758 1396.5,-817 1396.5,-817 1396.5,-823 1390.5,-829 1384.5,-829\"/>\n<text text-anchor=\"start\" x=\"1304\" y=\"-813.8\" font-family=\"Helvetica,sans-Serif\" font-size=\"14.00\" fill=\"#000000\">node #22</text>\n<text text-anchor=\"start\" x=\"1292.5\" y=\"-798.8\" font-family=\"Helvetica,sans-Serif\" font-size=\"14.00\" fill=\"#000000\">entropy = 0.0</text>\n<text text-anchor=\"start\" x=\"1283\" y=\"-783.8\" font-family=\"Helvetica,sans-Serif\" font-size=\"14.00\" fill=\"#000000\">samples = 0.4%</text>\n<text text-anchor=\"start\" x=\"1281.5\" y=\"-768.8\" font-family=\"Helvetica,sans-Serif\" font-size=\"14.00\" fill=\"#000000\">value = [0.0, 1.0]</text>\n<text text-anchor=\"start\" x=\"1306\" y=\"-753.8\" font-family=\"Helvetica,sans-Serif\" font-size=\"14.00\" fill=\"#000000\">class = 1</text>\n</g>\n<!-- 20&#45;&gt;22 -->\n<g id=\"edge22\" class=\"edge\">\n<title>20&#45;&gt;22</title>\n<path fill=\"none\" stroke=\"#000000\" d=\"M1190.2309,-793.6933C1215.4547,-792.6142 1240.8736,-791.5268 1263.2196,-790.5708\"/>\n<polygon fill=\"#000000\" stroke=\"#000000\" points=\"1263.4175,-794.0657 1273.2587,-790.1413 1263.1182,-787.072 1263.4175,-794.0657\"/>\n</g>\n<!-- 24 -->\n<g id=\"node25\" class=\"node\">\n<title>24</title>\n<path fill=\"#399de5\" stroke=\"#000000\" d=\"M1384.5,-728C1384.5,-728 1285.5,-728 1285.5,-728 1279.5,-728 1273.5,-722 1273.5,-716 1273.5,-716 1273.5,-657 1273.5,-657 1273.5,-651 1279.5,-645 1285.5,-645 1285.5,-645 1384.5,-645 1384.5,-645 1390.5,-645 1396.5,-651 1396.5,-657 1396.5,-657 1396.5,-716 1396.5,-716 1396.5,-722 1390.5,-728 1384.5,-728\"/>\n<text text-anchor=\"start\" x=\"1304\" y=\"-712.8\" font-family=\"Helvetica,sans-Serif\" font-size=\"14.00\" fill=\"#000000\">node #24</text>\n<text text-anchor=\"start\" x=\"1292.5\" y=\"-697.8\" font-family=\"Helvetica,sans-Serif\" font-size=\"14.00\" fill=\"#000000\">entropy = 0.0</text>\n<text text-anchor=\"start\" x=\"1283\" y=\"-682.8\" font-family=\"Helvetica,sans-Serif\" font-size=\"14.00\" fill=\"#000000\">samples = 3.1%</text>\n<text text-anchor=\"start\" x=\"1281.5\" y=\"-667.8\" font-family=\"Helvetica,sans-Serif\" font-size=\"14.00\" fill=\"#000000\">value = [0.0, 1.0]</text>\n<text text-anchor=\"start\" x=\"1306\" y=\"-652.8\" font-family=\"Helvetica,sans-Serif\" font-size=\"14.00\" fill=\"#000000\">class = 1</text>\n</g>\n<!-- 23&#45;&gt;24 -->\n<g id=\"edge24\" class=\"edge\">\n<title>23&#45;&gt;24</title>\n<path fill=\"none\" stroke=\"#000000\" d=\"M1172.6443,-684.7636C1203.3125,-685.0916 1235.4274,-685.4351 1262.9229,-685.7291\"/>\n<polygon fill=\"#000000\" stroke=\"#000000\" points=\"1263.1852,-689.232 1273.2221,-685.8393 1263.2601,-682.2324 1263.1852,-689.232\"/>\n</g>\n<!-- 25 -->\n<g id=\"node26\" class=\"node\">\n<title>25</title>\n<path fill=\"#cee6f8\" stroke=\"#000000\" d=\"M1407,-626.5C1407,-626.5 1263,-626.5 1263,-626.5 1257,-626.5 1251,-620.5 1251,-614.5 1251,-614.5 1251,-540.5 1251,-540.5 1251,-534.5 1257,-528.5 1263,-528.5 1263,-528.5 1407,-528.5 1407,-528.5 1413,-528.5 1419,-534.5 1419,-540.5 1419,-540.5 1419,-614.5 1419,-614.5 1419,-620.5 1413,-626.5 1407,-626.5\"/>\n<text text-anchor=\"start\" x=\"1304\" y=\"-611.3\" font-family=\"Helvetica,sans-Serif\" font-size=\"14.00\" fill=\"#000000\">node #25</text>\n<text text-anchor=\"start\" x=\"1259\" y=\"-596.3\" font-family=\"Helvetica,sans-Serif\" font-size=\"14.00\" fill=\"#000000\">scalp involvement ≤ 1.5</text>\n<text text-anchor=\"start\" x=\"1284\" y=\"-581.3\" font-family=\"Helvetica,sans-Serif\" font-size=\"14.00\" fill=\"#000000\">entropy = 0.985</text>\n<text text-anchor=\"start\" x=\"1283\" y=\"-566.3\" font-family=\"Helvetica,sans-Serif\" font-size=\"14.00\" fill=\"#000000\">samples = 2.7%</text>\n<text text-anchor=\"start\" x=\"1265\" y=\"-551.3\" font-family=\"Helvetica,sans-Serif\" font-size=\"14.00\" fill=\"#000000\">value = [0.429, 0.571]</text>\n<text text-anchor=\"start\" x=\"1306\" y=\"-536.3\" font-family=\"Helvetica,sans-Serif\" font-size=\"14.00\" fill=\"#000000\">class = 1</text>\n</g>\n<!-- 23&#45;&gt;25 -->\n<g id=\"edge25\" class=\"edge\">\n<title>23&#45;&gt;25</title>\n<path fill=\"none\" stroke=\"#000000\" d=\"M1172.6443,-638.8537C1195.4684,-630.2285 1219.0938,-621.3006 1241.02,-613.0147\"/>\n<polygon fill=\"#000000\" stroke=\"#000000\" points=\"1242.5172,-616.1906 1250.6343,-609.3815 1240.0426,-609.6425 1242.5172,-616.1906\"/>\n</g>\n<!-- 26 -->\n<g id=\"node27\" class=\"node\">\n<title>26</title>\n<path fill=\"#f6d5bd\" stroke=\"#000000\" d=\"M1684.5,-735.5C1684.5,-735.5 1556.5,-735.5 1556.5,-735.5 1550.5,-735.5 1544.5,-729.5 1544.5,-723.5 1544.5,-723.5 1544.5,-649.5 1544.5,-649.5 1544.5,-643.5 1550.5,-637.5 1556.5,-637.5 1556.5,-637.5 1684.5,-637.5 1684.5,-637.5 1690.5,-637.5 1696.5,-643.5 1696.5,-649.5 1696.5,-649.5 1696.5,-723.5 1696.5,-723.5 1696.5,-729.5 1690.5,-735.5 1684.5,-735.5\"/>\n<text text-anchor=\"start\" x=\"1589.5\" y=\"-720.3\" font-family=\"Helvetica,sans-Serif\" font-size=\"14.00\" fill=\"#000000\">node #26</text>\n<text text-anchor=\"start\" x=\"1552.5\" y=\"-705.3\" font-family=\"Helvetica,sans-Serif\" font-size=\"14.00\" fill=\"#000000\">definite borders ≤ 1.5</text>\n<text text-anchor=\"start\" x=\"1569.5\" y=\"-690.3\" font-family=\"Helvetica,sans-Serif\" font-size=\"14.00\" fill=\"#000000\">entropy = 0.971</text>\n<text text-anchor=\"start\" x=\"1568.5\" y=\"-675.3\" font-family=\"Helvetica,sans-Serif\" font-size=\"14.00\" fill=\"#000000\">samples = 2.0%</text>\n<text text-anchor=\"start\" x=\"1567\" y=\"-660.3\" font-family=\"Helvetica,sans-Serif\" font-size=\"14.00\" fill=\"#000000\">value = [0.6, 0.4]</text>\n<text text-anchor=\"start\" x=\"1591.5\" y=\"-645.3\" font-family=\"Helvetica,sans-Serif\" font-size=\"14.00\" fill=\"#000000\">class = 0</text>\n</g>\n<!-- 25&#45;&gt;26 -->\n<g id=\"edge26\" class=\"edge\">\n<title>25&#45;&gt;26</title>\n<path fill=\"none\" stroke=\"#000000\" d=\"M1419.1152,-609.6141C1455.504,-623.5068 1498.0452,-639.7484 1534.6283,-653.7154\"/>\n<polygon fill=\"#000000\" stroke=\"#000000\" points=\"1533.6936,-657.1049 1544.2843,-657.4019 1536.1904,-650.5653 1533.6936,-657.1049\"/>\n</g>\n<!-- 31 -->\n<g id=\"node32\" class=\"node\">\n<title>31</title>\n<path fill=\"#399de5\" stroke=\"#000000\" d=\"M1670,-619C1670,-619 1571,-619 1571,-619 1565,-619 1559,-613 1559,-607 1559,-607 1559,-548 1559,-548 1559,-542 1565,-536 1571,-536 1571,-536 1670,-536 1670,-536 1676,-536 1682,-542 1682,-548 1682,-548 1682,-607 1682,-607 1682,-613 1676,-619 1670,-619\"/>\n<text text-anchor=\"start\" x=\"1589.5\" y=\"-603.8\" font-family=\"Helvetica,sans-Serif\" font-size=\"14.00\" fill=\"#000000\">node #31</text>\n<text text-anchor=\"start\" x=\"1578\" y=\"-588.8\" font-family=\"Helvetica,sans-Serif\" font-size=\"14.00\" fill=\"#000000\">entropy = 0.0</text>\n<text text-anchor=\"start\" x=\"1568.5\" y=\"-573.8\" font-family=\"Helvetica,sans-Serif\" font-size=\"14.00\" fill=\"#000000\">samples = 0.8%</text>\n<text text-anchor=\"start\" x=\"1567\" y=\"-558.8\" font-family=\"Helvetica,sans-Serif\" font-size=\"14.00\" fill=\"#000000\">value = [0.0, 1.0]</text>\n<text text-anchor=\"start\" x=\"1591.5\" y=\"-543.8\" font-family=\"Helvetica,sans-Serif\" font-size=\"14.00\" fill=\"#000000\">class = 1</text>\n</g>\n<!-- 25&#45;&gt;31 -->\n<g id=\"edge31\" class=\"edge\">\n<title>25&#45;&gt;31</title>\n<path fill=\"none\" stroke=\"#000000\" d=\"M1419.1152,-577.5C1460.272,-577.5 1509.2994,-577.5 1548.6748,-577.5\"/>\n<polygon fill=\"#000000\" stroke=\"#000000\" points=\"1548.7266,-581.0001 1558.7266,-577.5 1548.7265,-574.0001 1548.7266,-581.0001\"/>\n</g>\n<!-- 27 -->\n<g id=\"node28\" class=\"node\">\n<title>27</title>\n<path fill=\"#9ccef2\" stroke=\"#000000\" d=\"M1998.5,-790.5C1998.5,-790.5 1866.5,-790.5 1866.5,-790.5 1860.5,-790.5 1854.5,-784.5 1854.5,-778.5 1854.5,-778.5 1854.5,-704.5 1854.5,-704.5 1854.5,-698.5 1860.5,-692.5 1866.5,-692.5 1866.5,-692.5 1998.5,-692.5 1998.5,-692.5 2004.5,-692.5 2010.5,-698.5 2010.5,-704.5 2010.5,-704.5 2010.5,-778.5 2010.5,-778.5 2010.5,-784.5 2004.5,-790.5 1998.5,-790.5\"/>\n<text text-anchor=\"start\" x=\"1901.5\" y=\"-775.3\" font-family=\"Helvetica,sans-Serif\" font-size=\"14.00\" fill=\"#000000\">node #27</text>\n<text text-anchor=\"start\" x=\"1880\" y=\"-760.3\" font-family=\"Helvetica,sans-Serif\" font-size=\"14.00\" fill=\"#000000\">exocytosis ≤ 2.5</text>\n<text text-anchor=\"start\" x=\"1881.5\" y=\"-745.3\" font-family=\"Helvetica,sans-Serif\" font-size=\"14.00\" fill=\"#000000\">entropy = 0.918</text>\n<text text-anchor=\"start\" x=\"1880.5\" y=\"-730.3\" font-family=\"Helvetica,sans-Serif\" font-size=\"14.00\" fill=\"#000000\">samples = 1.2%</text>\n<text text-anchor=\"start\" x=\"1862.5\" y=\"-715.3\" font-family=\"Helvetica,sans-Serif\" font-size=\"14.00\" fill=\"#000000\">value = [0.333, 0.667]</text>\n<text text-anchor=\"start\" x=\"1903.5\" y=\"-700.3\" font-family=\"Helvetica,sans-Serif\" font-size=\"14.00\" fill=\"#000000\">class = 1</text>\n</g>\n<!-- 26&#45;&gt;27 -->\n<g id=\"edge27\" class=\"edge\">\n<title>26&#45;&gt;27</title>\n<path fill=\"none\" stroke=\"#000000\" d=\"M1696.8238,-699.9545C1741.3629,-707.806 1797.7468,-717.7454 1844.1964,-725.9337\"/>\n<polygon fill=\"#000000\" stroke=\"#000000\" points=\"1843.7963,-729.417 1854.2521,-727.7063 1845.0116,-722.5233 1843.7963,-729.417\"/>\n</g>\n<!-- 30 -->\n<g id=\"node31\" class=\"node\">\n<title>30</title>\n<path fill=\"#e58139\" stroke=\"#000000\" d=\"M1982,-674C1982,-674 1883,-674 1883,-674 1877,-674 1871,-668 1871,-662 1871,-662 1871,-603 1871,-603 1871,-597 1877,-591 1883,-591 1883,-591 1982,-591 1982,-591 1988,-591 1994,-597 1994,-603 1994,-603 1994,-662 1994,-662 1994,-668 1988,-674 1982,-674\"/>\n<text text-anchor=\"start\" x=\"1901.5\" y=\"-658.8\" font-family=\"Helvetica,sans-Serif\" font-size=\"14.00\" fill=\"#000000\">node #30</text>\n<text text-anchor=\"start\" x=\"1890\" y=\"-643.8\" font-family=\"Helvetica,sans-Serif\" font-size=\"14.00\" fill=\"#000000\">entropy = 0.0</text>\n<text text-anchor=\"start\" x=\"1880.5\" y=\"-628.8\" font-family=\"Helvetica,sans-Serif\" font-size=\"14.00\" fill=\"#000000\">samples = 0.8%</text>\n<text text-anchor=\"start\" x=\"1879\" y=\"-613.8\" font-family=\"Helvetica,sans-Serif\" font-size=\"14.00\" fill=\"#000000\">value = [1.0, 0.0]</text>\n<text text-anchor=\"start\" x=\"1903.5\" y=\"-598.8\" font-family=\"Helvetica,sans-Serif\" font-size=\"14.00\" fill=\"#000000\">class = 0</text>\n</g>\n<!-- 26&#45;&gt;30 -->\n<g id=\"edge30\" class=\"edge\">\n<title>26&#45;&gt;30</title>\n<path fill=\"none\" stroke=\"#000000\" d=\"M1696.8238,-673.2901C1746.8662,-664.6289 1811.8611,-653.3798 1860.9182,-644.8892\"/>\n<polygon fill=\"#000000\" stroke=\"#000000\" points=\"1861.5637,-648.3296 1870.8203,-643.1753 1860.3698,-641.4321 1861.5637,-648.3296\"/>\n</g>\n<!-- 28 -->\n<g id=\"node29\" class=\"node\">\n<title>28</title>\n<path fill=\"#399de5\" stroke=\"#000000\" d=\"M2243,-833C2243,-833 2144,-833 2144,-833 2138,-833 2132,-827 2132,-821 2132,-821 2132,-762 2132,-762 2132,-756 2138,-750 2144,-750 2144,-750 2243,-750 2243,-750 2249,-750 2255,-756 2255,-762 2255,-762 2255,-821 2255,-821 2255,-827 2249,-833 2243,-833\"/>\n<text text-anchor=\"start\" x=\"2162.5\" y=\"-817.8\" font-family=\"Helvetica,sans-Serif\" font-size=\"14.00\" fill=\"#000000\">node #28</text>\n<text text-anchor=\"start\" x=\"2151\" y=\"-802.8\" font-family=\"Helvetica,sans-Serif\" font-size=\"14.00\" fill=\"#000000\">entropy = 0.0</text>\n<text text-anchor=\"start\" x=\"2141.5\" y=\"-787.8\" font-family=\"Helvetica,sans-Serif\" font-size=\"14.00\" fill=\"#000000\">samples = 0.8%</text>\n<text text-anchor=\"start\" x=\"2140\" y=\"-772.8\" font-family=\"Helvetica,sans-Serif\" font-size=\"14.00\" fill=\"#000000\">value = [0.0, 1.0]</text>\n<text text-anchor=\"start\" x=\"2164.5\" y=\"-757.8\" font-family=\"Helvetica,sans-Serif\" font-size=\"14.00\" fill=\"#000000\">class = 1</text>\n</g>\n<!-- 27&#45;&gt;28 -->\n<g id=\"edge28\" class=\"edge\">\n<title>27&#45;&gt;28</title>\n<path fill=\"none\" stroke=\"#000000\" d=\"M2010.8086,-756.5016C2046.068,-763.2563 2087.4132,-771.1769 2121.8454,-777.7731\"/>\n<polygon fill=\"#000000\" stroke=\"#000000\" points=\"2121.3475,-781.2413 2131.8275,-779.6853 2122.6646,-774.3663 2121.3475,-781.2413\"/>\n</g>\n<!-- 29 -->\n<g id=\"node30\" class=\"node\">\n<title>29</title>\n<path fill=\"#e58139\" stroke=\"#000000\" d=\"M2243,-732C2243,-732 2144,-732 2144,-732 2138,-732 2132,-726 2132,-720 2132,-720 2132,-661 2132,-661 2132,-655 2138,-649 2144,-649 2144,-649 2243,-649 2243,-649 2249,-649 2255,-655 2255,-661 2255,-661 2255,-720 2255,-720 2255,-726 2249,-732 2243,-732\"/>\n<text text-anchor=\"start\" x=\"2162.5\" y=\"-716.8\" font-family=\"Helvetica,sans-Serif\" font-size=\"14.00\" fill=\"#000000\">node #29</text>\n<text text-anchor=\"start\" x=\"2151\" y=\"-701.8\" font-family=\"Helvetica,sans-Serif\" font-size=\"14.00\" fill=\"#000000\">entropy = 0.0</text>\n<text text-anchor=\"start\" x=\"2141.5\" y=\"-686.8\" font-family=\"Helvetica,sans-Serif\" font-size=\"14.00\" fill=\"#000000\">samples = 0.4%</text>\n<text text-anchor=\"start\" x=\"2140\" y=\"-671.8\" font-family=\"Helvetica,sans-Serif\" font-size=\"14.00\" fill=\"#000000\">value = [1.0, 0.0]</text>\n<text text-anchor=\"start\" x=\"2164.5\" y=\"-656.8\" font-family=\"Helvetica,sans-Serif\" font-size=\"14.00\" fill=\"#000000\">class = 0</text>\n</g>\n<!-- 27&#45;&gt;29 -->\n<g id=\"edge29\" class=\"edge\">\n<title>27&#45;&gt;29</title>\n<path fill=\"none\" stroke=\"#000000\" d=\"M2010.8086,-726.1983C2046.068,-719.3086 2087.4132,-711.2296 2121.8454,-704.5015\"/>\n<polygon fill=\"#000000\" stroke=\"#000000\" points=\"2122.6843,-707.9038 2131.8275,-702.551 2121.3418,-701.0338 2122.6843,-707.9038\"/>\n</g>\n<!-- 33 -->\n<g id=\"node34\" class=\"node\">\n<title>33</title>\n<path fill=\"#e58139\" stroke=\"#000000\" d=\"M1104,-614C1104,-614 1005,-614 1005,-614 999,-614 993,-608 993,-602 993,-602 993,-543 993,-543 993,-537 999,-531 1005,-531 1005,-531 1104,-531 1104,-531 1110,-531 1116,-537 1116,-543 1116,-543 1116,-602 1116,-602 1116,-608 1110,-614 1104,-614\"/>\n<text text-anchor=\"start\" x=\"1023.5\" y=\"-598.8\" font-family=\"Helvetica,sans-Serif\" font-size=\"14.00\" fill=\"#000000\">node #33</text>\n<text text-anchor=\"start\" x=\"1012\" y=\"-583.8\" font-family=\"Helvetica,sans-Serif\" font-size=\"14.00\" fill=\"#000000\">entropy = 0.0</text>\n<text text-anchor=\"start\" x=\"1002.5\" y=\"-568.8\" font-family=\"Helvetica,sans-Serif\" font-size=\"14.00\" fill=\"#000000\">samples = 3.5%</text>\n<text text-anchor=\"start\" x=\"1001\" y=\"-553.8\" font-family=\"Helvetica,sans-Serif\" font-size=\"14.00\" fill=\"#000000\">value = [1.0, 0.0]</text>\n<text text-anchor=\"start\" x=\"1025.5\" y=\"-538.8\" font-family=\"Helvetica,sans-Serif\" font-size=\"14.00\" fill=\"#000000\">class = 0</text>\n</g>\n<!-- 32&#45;&gt;33 -->\n<g id=\"edge33\" class=\"edge\">\n<title>32&#45;&gt;33</title>\n<path fill=\"none\" stroke=\"#000000\" d=\"M856.6011,-572.5C898.3477,-572.5 944.8879,-572.5 982.3423,-572.5\"/>\n<polygon fill=\"#000000\" stroke=\"#000000\" points=\"982.6539,-576.0001 992.6539,-572.5 982.6539,-569.0001 982.6539,-576.0001\"/>\n</g>\n<!-- 34 -->\n<g id=\"node35\" class=\"node\">\n<title>34</title>\n<path fill=\"#f0b58b\" stroke=\"#000000\" d=\"M1160.5,-471.5C1160.5,-471.5 948.5,-471.5 948.5,-471.5 942.5,-471.5 936.5,-465.5 936.5,-459.5 936.5,-459.5 936.5,-385.5 936.5,-385.5 936.5,-379.5 942.5,-373.5 948.5,-373.5 948.5,-373.5 1160.5,-373.5 1160.5,-373.5 1166.5,-373.5 1172.5,-379.5 1172.5,-385.5 1172.5,-385.5 1172.5,-459.5 1172.5,-459.5 1172.5,-465.5 1166.5,-471.5 1160.5,-471.5\"/>\n<text text-anchor=\"start\" x=\"1023.5\" y=\"-456.3\" font-family=\"Helvetica,sans-Serif\" font-size=\"14.00\" fill=\"#000000\">node #34</text>\n<text text-anchor=\"start\" x=\"944.5\" y=\"-441.3\" font-family=\"Helvetica,sans-Serif\" font-size=\"14.00\" fill=\"#000000\">knee and elbow involvement ≤ 1.5</text>\n<text text-anchor=\"start\" x=\"1003.5\" y=\"-426.3\" font-family=\"Helvetica,sans-Serif\" font-size=\"14.00\" fill=\"#000000\">entropy = 0.871</text>\n<text text-anchor=\"start\" x=\"998.5\" y=\"-411.3\" font-family=\"Helvetica,sans-Serif\" font-size=\"14.00\" fill=\"#000000\">samples = 18.8%</text>\n<text text-anchor=\"start\" x=\"984.5\" y=\"-396.3\" font-family=\"Helvetica,sans-Serif\" font-size=\"14.00\" fill=\"#000000\">value = [0.708, 0.292]</text>\n<text text-anchor=\"start\" x=\"1025.5\" y=\"-381.3\" font-family=\"Helvetica,sans-Serif\" font-size=\"14.00\" fill=\"#000000\">class = 0</text>\n</g>\n<!-- 32&#45;&gt;34 -->\n<g id=\"edge34\" class=\"edge\">\n<title>32&#45;&gt;34</title>\n<path fill=\"none\" stroke=\"#000000\" d=\"M848.0233,-523.3844C878.98,-508.259 913.2132,-491.5327 944.7565,-476.1206\"/>\n<polygon fill=\"#000000\" stroke=\"#000000\" points=\"946.5649,-479.1325 954.0132,-471.5978 943.4918,-472.8431 946.5649,-479.1325\"/>\n</g>\n<!-- 35 -->\n<g id=\"node36\" class=\"node\">\n<title>35</title>\n<path fill=\"#88c4ef\" stroke=\"#000000\" d=\"M1432,-471.5C1432,-471.5 1238,-471.5 1238,-471.5 1232,-471.5 1226,-465.5 1226,-459.5 1226,-459.5 1226,-385.5 1226,-385.5 1226,-379.5 1232,-373.5 1238,-373.5 1238,-373.5 1432,-373.5 1432,-373.5 1438,-373.5 1444,-379.5 1444,-385.5 1444,-385.5 1444,-459.5 1444,-459.5 1444,-465.5 1438,-471.5 1432,-471.5\"/>\n<text text-anchor=\"start\" x=\"1304\" y=\"-456.3\" font-family=\"Helvetica,sans-Serif\" font-size=\"14.00\" fill=\"#000000\">node #35</text>\n<text text-anchor=\"start\" x=\"1234\" y=\"-441.3\" font-family=\"Helvetica,sans-Serif\" font-size=\"14.00\" fill=\"#000000\">clubbing of the rete ridges ≤ 2.5</text>\n<text text-anchor=\"start\" x=\"1284\" y=\"-426.3\" font-family=\"Helvetica,sans-Serif\" font-size=\"14.00\" fill=\"#000000\">entropy = 0.863</text>\n<text text-anchor=\"start\" x=\"1283\" y=\"-411.3\" font-family=\"Helvetica,sans-Serif\" font-size=\"14.00\" fill=\"#000000\">samples = 2.7%</text>\n<text text-anchor=\"start\" x=\"1265\" y=\"-396.3\" font-family=\"Helvetica,sans-Serif\" font-size=\"14.00\" fill=\"#000000\">value = [0.286, 0.714]</text>\n<text text-anchor=\"start\" x=\"1306\" y=\"-381.3\" font-family=\"Helvetica,sans-Serif\" font-size=\"14.00\" fill=\"#000000\">class = 1</text>\n</g>\n<!-- 34&#45;&gt;35 -->\n<g id=\"edge35\" class=\"edge\">\n<title>34&#45;&gt;35</title>\n<path fill=\"none\" stroke=\"#000000\" d=\"M1172.6443,-422.5C1186.861,-422.5 1201.3887,-422.5 1215.6229,-422.5\"/>\n<polygon fill=\"#000000\" stroke=\"#000000\" points=\"1215.9271,-426.0001 1225.9271,-422.5 1215.9271,-419.0001 1215.9271,-426.0001\"/>\n</g>\n<!-- 38 -->\n<g id=\"node39\" class=\"node\">\n<title>38</title>\n<path fill=\"#eca471\" stroke=\"#000000\" d=\"M1393,-315.5C1393,-315.5 1277,-315.5 1277,-315.5 1271,-315.5 1265,-309.5 1265,-303.5 1265,-303.5 1265,-229.5 1265,-229.5 1265,-223.5 1271,-217.5 1277,-217.5 1277,-217.5 1393,-217.5 1393,-217.5 1399,-217.5 1405,-223.5 1405,-229.5 1405,-229.5 1405,-303.5 1405,-303.5 1405,-309.5 1399,-315.5 1393,-315.5\"/>\n<text text-anchor=\"start\" x=\"1304\" y=\"-300.3\" font-family=\"Helvetica,sans-Serif\" font-size=\"14.00\" fill=\"#000000\">node #38</text>\n<text text-anchor=\"start\" x=\"1296\" y=\"-285.3\" font-family=\"Helvetica,sans-Serif\" font-size=\"14.00\" fill=\"#000000\">itching ≤ 0.5</text>\n<text text-anchor=\"start\" x=\"1284\" y=\"-270.3\" font-family=\"Helvetica,sans-Serif\" font-size=\"14.00\" fill=\"#000000\">entropy = 0.759</text>\n<text text-anchor=\"start\" x=\"1279\" y=\"-255.3\" font-family=\"Helvetica,sans-Serif\" font-size=\"14.00\" fill=\"#000000\">samples = 16.0%</text>\n<text text-anchor=\"start\" x=\"1273\" y=\"-240.3\" font-family=\"Helvetica,sans-Serif\" font-size=\"14.00\" fill=\"#000000\">value = [0.78, 0.22]</text>\n<text text-anchor=\"start\" x=\"1306\" y=\"-225.3\" font-family=\"Helvetica,sans-Serif\" font-size=\"14.00\" fill=\"#000000\">class = 0</text>\n</g>\n<!-- 34&#45;&gt;38 -->\n<g id=\"edge38\" class=\"edge\">\n<title>34&#45;&gt;38</title>\n<path fill=\"none\" stroke=\"#000000\" d=\"M1142.8669,-373.3547C1179.1368,-353.1833 1220.7956,-330.0147 1256.0309,-310.4186\"/>\n<polygon fill=\"#000000\" stroke=\"#000000\" points=\"1257.8053,-313.4368 1264.8435,-305.5175 1254.4029,-307.3192 1257.8053,-313.4368\"/>\n</g>\n<!-- 36 -->\n<g id=\"node37\" class=\"node\">\n<title>36</title>\n<path fill=\"#399de5\" stroke=\"#000000\" d=\"M1670,-518C1670,-518 1571,-518 1571,-518 1565,-518 1559,-512 1559,-506 1559,-506 1559,-447 1559,-447 1559,-441 1565,-435 1571,-435 1571,-435 1670,-435 1670,-435 1676,-435 1682,-441 1682,-447 1682,-447 1682,-506 1682,-506 1682,-512 1676,-518 1670,-518\"/>\n<text text-anchor=\"start\" x=\"1589.5\" y=\"-502.8\" font-family=\"Helvetica,sans-Serif\" font-size=\"14.00\" fill=\"#000000\">node #36</text>\n<text text-anchor=\"start\" x=\"1578\" y=\"-487.8\" font-family=\"Helvetica,sans-Serif\" font-size=\"14.00\" fill=\"#000000\">entropy = 0.0</text>\n<text text-anchor=\"start\" x=\"1568.5\" y=\"-472.8\" font-family=\"Helvetica,sans-Serif\" font-size=\"14.00\" fill=\"#000000\">samples = 2.0%</text>\n<text text-anchor=\"start\" x=\"1567\" y=\"-457.8\" font-family=\"Helvetica,sans-Serif\" font-size=\"14.00\" fill=\"#000000\">value = [0.0, 1.0]</text>\n<text text-anchor=\"start\" x=\"1591.5\" y=\"-442.8\" font-family=\"Helvetica,sans-Serif\" font-size=\"14.00\" fill=\"#000000\">class = 1</text>\n</g>\n<!-- 35&#45;&gt;36 -->\n<g id=\"edge36\" class=\"edge\">\n<title>35&#45;&gt;36</title>\n<path fill=\"none\" stroke=\"#000000\" d=\"M1444.1574,-443.1462C1479.2424,-449.7823 1517.1977,-456.9612 1548.876,-462.9529\"/>\n<polygon fill=\"#000000\" stroke=\"#000000\" points=\"1548.4527,-466.4348 1558.929,-464.8543 1549.7537,-459.5568 1548.4527,-466.4348\"/>\n</g>\n<!-- 37 -->\n<g id=\"node38\" class=\"node\">\n<title>37</title>\n<path fill=\"#e58139\" stroke=\"#000000\" d=\"M1670,-417C1670,-417 1571,-417 1571,-417 1565,-417 1559,-411 1559,-405 1559,-405 1559,-346 1559,-346 1559,-340 1565,-334 1571,-334 1571,-334 1670,-334 1670,-334 1676,-334 1682,-340 1682,-346 1682,-346 1682,-405 1682,-405 1682,-411 1676,-417 1670,-417\"/>\n<text text-anchor=\"start\" x=\"1589.5\" y=\"-401.8\" font-family=\"Helvetica,sans-Serif\" font-size=\"14.00\" fill=\"#000000\">node #37</text>\n<text text-anchor=\"start\" x=\"1578\" y=\"-386.8\" font-family=\"Helvetica,sans-Serif\" font-size=\"14.00\" fill=\"#000000\">entropy = 0.0</text>\n<text text-anchor=\"start\" x=\"1568.5\" y=\"-371.8\" font-family=\"Helvetica,sans-Serif\" font-size=\"14.00\" fill=\"#000000\">samples = 0.8%</text>\n<text text-anchor=\"start\" x=\"1567\" y=\"-356.8\" font-family=\"Helvetica,sans-Serif\" font-size=\"14.00\" fill=\"#000000\">value = [1.0, 0.0]</text>\n<text text-anchor=\"start\" x=\"1591.5\" y=\"-341.8\" font-family=\"Helvetica,sans-Serif\" font-size=\"14.00\" fill=\"#000000\">class = 0</text>\n</g>\n<!-- 35&#45;&gt;37 -->\n<g id=\"edge37\" class=\"edge\">\n<title>35&#45;&gt;37</title>\n<path fill=\"none\" stroke=\"#000000\" d=\"M1444.1574,-404.5301C1479.2424,-398.7543 1517.1977,-392.506 1548.876,-387.291\"/>\n<polygon fill=\"#000000\" stroke=\"#000000\" points=\"1549.6304,-390.714 1558.929,-385.636 1548.4932,-383.807 1549.6304,-390.714\"/>\n</g>\n<!-- 39 -->\n<g id=\"node40\" class=\"node\">\n<title>39</title>\n<path fill=\"#e88e4e\" stroke=\"#000000\" d=\"M1749,-315.5C1749,-315.5 1492,-315.5 1492,-315.5 1486,-315.5 1480,-309.5 1480,-303.5 1480,-303.5 1480,-229.5 1480,-229.5 1480,-223.5 1486,-217.5 1492,-217.5 1492,-217.5 1749,-217.5 1749,-217.5 1755,-217.5 1761,-223.5 1761,-229.5 1761,-229.5 1761,-303.5 1761,-303.5 1761,-309.5 1755,-315.5 1749,-315.5\"/>\n<text text-anchor=\"start\" x=\"1589.5\" y=\"-300.3\" font-family=\"Helvetica,sans-Serif\" font-size=\"14.00\" fill=\"#000000\">node #39</text>\n<text text-anchor=\"start\" x=\"1488\" y=\"-285.3\" font-family=\"Helvetica,sans-Serif\" font-size=\"14.00\" fill=\"#000000\">disappearance of the granular layer ≤ 2.5</text>\n<text text-anchor=\"start\" x=\"1569.5\" y=\"-270.3\" font-family=\"Helvetica,sans-Serif\" font-size=\"14.00\" fill=\"#000000\">entropy = 0.454</text>\n<text text-anchor=\"start\" x=\"1568.5\" y=\"-255.3\" font-family=\"Helvetica,sans-Serif\" font-size=\"14.00\" fill=\"#000000\">samples = 8.2%</text>\n<text text-anchor=\"start\" x=\"1550.5\" y=\"-240.3\" font-family=\"Helvetica,sans-Serif\" font-size=\"14.00\" fill=\"#000000\">value = [0.905, 0.095]</text>\n<text text-anchor=\"start\" x=\"1591.5\" y=\"-225.3\" font-family=\"Helvetica,sans-Serif\" font-size=\"14.00\" fill=\"#000000\">class = 0</text>\n</g>\n<!-- 38&#45;&gt;39 -->\n<g id=\"edge39\" class=\"edge\">\n<title>38&#45;&gt;39</title>\n<path fill=\"none\" stroke=\"#000000\" d=\"M1405.2068,-266.5C1424.9824,-266.5 1447.2876,-266.5 1469.8568,-266.5\"/>\n<polygon fill=\"#000000\" stroke=\"#000000\" points=\"1469.8864,-270.0001 1479.8863,-266.5 1469.8863,-263.0001 1469.8864,-270.0001\"/>\n</g>\n<!-- 44 -->\n<g id=\"node45\" class=\"node\">\n<title>44</title>\n<path fill=\"#f3c5a4\" stroke=\"#000000\" d=\"M1698,-199.5C1698,-199.5 1543,-199.5 1543,-199.5 1537,-199.5 1531,-193.5 1531,-187.5 1531,-187.5 1531,-113.5 1531,-113.5 1531,-107.5 1537,-101.5 1543,-101.5 1543,-101.5 1698,-101.5 1698,-101.5 1704,-101.5 1710,-107.5 1710,-113.5 1710,-113.5 1710,-187.5 1710,-187.5 1710,-193.5 1704,-199.5 1698,-199.5\"/>\n<text text-anchor=\"start\" x=\"1589.5\" y=\"-184.3\" font-family=\"Helvetica,sans-Serif\" font-size=\"14.00\" fill=\"#000000\">node #44</text>\n<text text-anchor=\"start\" x=\"1539\" y=\"-169.3\" font-family=\"Helvetica,sans-Serif\" font-size=\"14.00\" fill=\"#000000\">munro microabcess ≤ 2.5</text>\n<text text-anchor=\"start\" x=\"1569.5\" y=\"-154.3\" font-family=\"Helvetica,sans-Serif\" font-size=\"14.00\" fill=\"#000000\">entropy = 0.934</text>\n<text text-anchor=\"start\" x=\"1568.5\" y=\"-139.3\" font-family=\"Helvetica,sans-Serif\" font-size=\"14.00\" fill=\"#000000\">samples = 7.8%</text>\n<text text-anchor=\"start\" x=\"1558.5\" y=\"-124.3\" font-family=\"Helvetica,sans-Serif\" font-size=\"14.00\" fill=\"#000000\">value = [0.65, 0.35]</text>\n<text text-anchor=\"start\" x=\"1591.5\" y=\"-109.3\" font-family=\"Helvetica,sans-Serif\" font-size=\"14.00\" fill=\"#000000\">class = 0</text>\n</g>\n<!-- 38&#45;&gt;44 -->\n<g id=\"edge44\" class=\"edge\">\n<title>38&#45;&gt;44</title>\n<path fill=\"none\" stroke=\"#000000\" d=\"M1405.2068,-237.9746C1440.1382,-223.7819 1482.9627,-206.3821 1521.1924,-190.8491\"/>\n<polygon fill=\"#000000\" stroke=\"#000000\" points=\"1522.8583,-193.9502 1530.8053,-186.9434 1520.2233,-187.4651 1522.8583,-193.9502\"/>\n</g>\n<!-- 40 -->\n<g id=\"node41\" class=\"node\">\n<title>40</title>\n<path fill=\"#e58139\" stroke=\"#000000\" d=\"M1982,-417C1982,-417 1883,-417 1883,-417 1877,-417 1871,-411 1871,-405 1871,-405 1871,-346 1871,-346 1871,-340 1877,-334 1883,-334 1883,-334 1982,-334 1982,-334 1988,-334 1994,-340 1994,-346 1994,-346 1994,-405 1994,-405 1994,-411 1988,-417 1982,-417\"/>\n<text text-anchor=\"start\" x=\"1901.5\" y=\"-401.8\" font-family=\"Helvetica,sans-Serif\" font-size=\"14.00\" fill=\"#000000\">node #40</text>\n<text text-anchor=\"start\" x=\"1890\" y=\"-386.8\" font-family=\"Helvetica,sans-Serif\" font-size=\"14.00\" fill=\"#000000\">entropy = 0.0</text>\n<text text-anchor=\"start\" x=\"1880.5\" y=\"-371.8\" font-family=\"Helvetica,sans-Serif\" font-size=\"14.00\" fill=\"#000000\">samples = 6.6%</text>\n<text text-anchor=\"start\" x=\"1879\" y=\"-356.8\" font-family=\"Helvetica,sans-Serif\" font-size=\"14.00\" fill=\"#000000\">value = [1.0, 0.0]</text>\n<text text-anchor=\"start\" x=\"1903.5\" y=\"-341.8\" font-family=\"Helvetica,sans-Serif\" font-size=\"14.00\" fill=\"#000000\">class = 0</text>\n</g>\n<!-- 39&#45;&gt;40 -->\n<g id=\"edge40\" class=\"edge\">\n<title>39&#45;&gt;40</title>\n<path fill=\"none\" stroke=\"#000000\" d=\"M1760.9838,-315.5793C1795.7195,-327.7145 1831.4917,-340.2118 1861.3194,-350.6324\"/>\n<polygon fill=\"#000000\" stroke=\"#000000\" points=\"1860.1912,-353.9457 1870.786,-353.9397 1862.4999,-347.3373 1860.1912,-353.9457\"/>\n</g>\n<!-- 41 -->\n<g id=\"node42\" class=\"node\">\n<title>41</title>\n<path fill=\"#ffffff\" stroke=\"#000000\" d=\"M2056,-315.5C2056,-315.5 1809,-315.5 1809,-315.5 1803,-315.5 1797,-309.5 1797,-303.5 1797,-303.5 1797,-229.5 1797,-229.5 1797,-223.5 1803,-217.5 1809,-217.5 1809,-217.5 2056,-217.5 2056,-217.5 2062,-217.5 2068,-223.5 2068,-229.5 2068,-229.5 2068,-303.5 2068,-303.5 2068,-309.5 2062,-315.5 2056,-315.5\"/>\n<text text-anchor=\"start\" x=\"1901.5\" y=\"-300.3\" font-family=\"Helvetica,sans-Serif\" font-size=\"14.00\" fill=\"#000000\">node #41</text>\n<text text-anchor=\"start\" x=\"1805\" y=\"-285.3\" font-family=\"Helvetica,sans-Serif\" font-size=\"14.00\" fill=\"#000000\">inflammatory monoluclear inflitrate ≤ 1.5</text>\n<text text-anchor=\"start\" x=\"1890\" y=\"-270.3\" font-family=\"Helvetica,sans-Serif\" font-size=\"14.00\" fill=\"#000000\">entropy = 1.0</text>\n<text text-anchor=\"start\" x=\"1880.5\" y=\"-255.3\" font-family=\"Helvetica,sans-Serif\" font-size=\"14.00\" fill=\"#000000\">samples = 1.6%</text>\n<text text-anchor=\"start\" x=\"1879\" y=\"-240.3\" font-family=\"Helvetica,sans-Serif\" font-size=\"14.00\" fill=\"#000000\">value = [0.5, 0.5]</text>\n<text text-anchor=\"start\" x=\"1903.5\" y=\"-225.3\" font-family=\"Helvetica,sans-Serif\" font-size=\"14.00\" fill=\"#000000\">class = 0</text>\n</g>\n<!-- 39&#45;&gt;41 -->\n<g id=\"edge41\" class=\"edge\">\n<title>39&#45;&gt;41</title>\n<path fill=\"none\" stroke=\"#000000\" d=\"M1761.4389,-266.5C1769.8199,-266.5 1778.2594,-266.5 1786.6596,-266.5\"/>\n<polygon fill=\"#000000\" stroke=\"#000000\" points=\"1786.8797,-270.0001 1796.8797,-266.5 1786.8797,-263.0001 1786.8797,-270.0001\"/>\n</g>\n<!-- 42 -->\n<g id=\"node43\" class=\"node\">\n<title>42</title>\n<path fill=\"#e58139\" stroke=\"#000000\" d=\"M2243,-406C2243,-406 2144,-406 2144,-406 2138,-406 2132,-400 2132,-394 2132,-394 2132,-335 2132,-335 2132,-329 2138,-323 2144,-323 2144,-323 2243,-323 2243,-323 2249,-323 2255,-329 2255,-335 2255,-335 2255,-394 2255,-394 2255,-400 2249,-406 2243,-406\"/>\n<text text-anchor=\"start\" x=\"2162.5\" y=\"-390.8\" font-family=\"Helvetica,sans-Serif\" font-size=\"14.00\" fill=\"#000000\">node #42</text>\n<text text-anchor=\"start\" x=\"2151\" y=\"-375.8\" font-family=\"Helvetica,sans-Serif\" font-size=\"14.00\" fill=\"#000000\">entropy = 0.0</text>\n<text text-anchor=\"start\" x=\"2141.5\" y=\"-360.8\" font-family=\"Helvetica,sans-Serif\" font-size=\"14.00\" fill=\"#000000\">samples = 0.8%</text>\n<text text-anchor=\"start\" x=\"2140\" y=\"-345.8\" font-family=\"Helvetica,sans-Serif\" font-size=\"14.00\" fill=\"#000000\">value = [1.0, 0.0]</text>\n<text text-anchor=\"start\" x=\"2164.5\" y=\"-330.8\" font-family=\"Helvetica,sans-Serif\" font-size=\"14.00\" fill=\"#000000\">class = 0</text>\n</g>\n<!-- 41&#45;&gt;42 -->\n<g id=\"edge42\" class=\"edge\">\n<title>41&#45;&gt;42</title>\n<path fill=\"none\" stroke=\"#000000\" d=\"M2063,-315.5C2083.5111,-323.2015 2104.0222,-330.903 2122.5065,-337.8434\"/>\n<polygon fill=\"#000000\" stroke=\"#000000\" points=\"2121.385,-341.1609 2131.9771,-341.3995 2123.8457,-334.6076 2121.385,-341.1609\"/>\n</g>\n<!-- 43 -->\n<g id=\"node44\" class=\"node\">\n<title>43</title>\n<path fill=\"#399de5\" stroke=\"#000000\" d=\"M2243,-305C2243,-305 2144,-305 2144,-305 2138,-305 2132,-299 2132,-293 2132,-293 2132,-234 2132,-234 2132,-228 2138,-222 2144,-222 2144,-222 2243,-222 2243,-222 2249,-222 2255,-228 2255,-234 2255,-234 2255,-293 2255,-293 2255,-299 2249,-305 2243,-305\"/>\n<text text-anchor=\"start\" x=\"2162.5\" y=\"-289.8\" font-family=\"Helvetica,sans-Serif\" font-size=\"14.00\" fill=\"#000000\">node #43</text>\n<text text-anchor=\"start\" x=\"2151\" y=\"-274.8\" font-family=\"Helvetica,sans-Serif\" font-size=\"14.00\" fill=\"#000000\">entropy = 0.0</text>\n<text text-anchor=\"start\" x=\"2141.5\" y=\"-259.8\" font-family=\"Helvetica,sans-Serif\" font-size=\"14.00\" fill=\"#000000\">samples = 0.8%</text>\n<text text-anchor=\"start\" x=\"2140\" y=\"-244.8\" font-family=\"Helvetica,sans-Serif\" font-size=\"14.00\" fill=\"#000000\">value = [0.0, 1.0]</text>\n<text text-anchor=\"start\" x=\"2164.5\" y=\"-229.8\" font-family=\"Helvetica,sans-Serif\" font-size=\"14.00\" fill=\"#000000\">class = 1</text>\n</g>\n<!-- 41&#45;&gt;43 -->\n<g id=\"edge43\" class=\"edge\">\n<title>41&#45;&gt;43</title>\n<path fill=\"none\" stroke=\"#000000\" d=\"M2068.3512,-264.9385C2086.7121,-264.7274 2104.9315,-264.518 2121.5523,-264.327\"/>\n<polygon fill=\"#000000\" stroke=\"#000000\" points=\"2121.7224,-267.8254 2131.6815,-264.2106 2121.6419,-260.8258 2121.7224,-267.8254\"/>\n</g>\n<!-- 45 -->\n<g id=\"node46\" class=\"node\">\n<title>45</title>\n<path fill=\"#f7d9c4\" stroke=\"#000000\" d=\"M2038.5,-199.5C2038.5,-199.5 1826.5,-199.5 1826.5,-199.5 1820.5,-199.5 1814.5,-193.5 1814.5,-187.5 1814.5,-187.5 1814.5,-113.5 1814.5,-113.5 1814.5,-107.5 1820.5,-101.5 1826.5,-101.5 1826.5,-101.5 2038.5,-101.5 2038.5,-101.5 2044.5,-101.5 2050.5,-107.5 2050.5,-113.5 2050.5,-113.5 2050.5,-187.5 2050.5,-187.5 2050.5,-193.5 2044.5,-199.5 2038.5,-199.5\"/>\n<text text-anchor=\"start\" x=\"1901.5\" y=\"-184.3\" font-family=\"Helvetica,sans-Serif\" font-size=\"14.00\" fill=\"#000000\">node #45</text>\n<text text-anchor=\"start\" x=\"1822.5\" y=\"-169.3\" font-family=\"Helvetica,sans-Serif\" font-size=\"14.00\" fill=\"#000000\">knee and elbow involvement ≤ 2.5</text>\n<text text-anchor=\"start\" x=\"1881.5\" y=\"-154.3\" font-family=\"Helvetica,sans-Serif\" font-size=\"14.00\" fill=\"#000000\">entropy = 0.977</text>\n<text text-anchor=\"start\" x=\"1880.5\" y=\"-139.3\" font-family=\"Helvetica,sans-Serif\" font-size=\"14.00\" fill=\"#000000\">samples = 6.6%</text>\n<text text-anchor=\"start\" x=\"1862.5\" y=\"-124.3\" font-family=\"Helvetica,sans-Serif\" font-size=\"14.00\" fill=\"#000000\">value = [0.588, 0.412]</text>\n<text text-anchor=\"start\" x=\"1903.5\" y=\"-109.3\" font-family=\"Helvetica,sans-Serif\" font-size=\"14.00\" fill=\"#000000\">class = 0</text>\n</g>\n<!-- 44&#45;&gt;45 -->\n<g id=\"edge45\" class=\"edge\">\n<title>44&#45;&gt;45</title>\n<path fill=\"none\" stroke=\"#000000\" d=\"M1710.3247,-150.5C1739.5642,-150.5 1772.6109,-150.5 1804.1069,-150.5\"/>\n<polygon fill=\"#000000\" stroke=\"#000000\" points=\"1804.2717,-154.0001 1814.2716,-150.5 1804.2716,-147.0001 1804.2717,-154.0001\"/>\n</g>\n<!-- 54 -->\n<g id=\"node55\" class=\"node\">\n<title>54</title>\n<path fill=\"#e58139\" stroke=\"#000000\" d=\"M1982,-83C1982,-83 1883,-83 1883,-83 1877,-83 1871,-77 1871,-71 1871,-71 1871,-12 1871,-12 1871,-6 1877,0 1883,0 1883,0 1982,0 1982,0 1988,0 1994,-6 1994,-12 1994,-12 1994,-71 1994,-71 1994,-77 1988,-83 1982,-83\"/>\n<text text-anchor=\"start\" x=\"1901.5\" y=\"-67.8\" font-family=\"Helvetica,sans-Serif\" font-size=\"14.00\" fill=\"#000000\">node #54</text>\n<text text-anchor=\"start\" x=\"1890\" y=\"-52.8\" font-family=\"Helvetica,sans-Serif\" font-size=\"14.00\" fill=\"#000000\">entropy = 0.0</text>\n<text text-anchor=\"start\" x=\"1880.5\" y=\"-37.8\" font-family=\"Helvetica,sans-Serif\" font-size=\"14.00\" fill=\"#000000\">samples = 1.2%</text>\n<text text-anchor=\"start\" x=\"1879\" y=\"-22.8\" font-family=\"Helvetica,sans-Serif\" font-size=\"14.00\" fill=\"#000000\">value = [1.0, 0.0]</text>\n<text text-anchor=\"start\" x=\"1903.5\" y=\"-7.8\" font-family=\"Helvetica,sans-Serif\" font-size=\"14.00\" fill=\"#000000\">class = 0</text>\n</g>\n<!-- 44&#45;&gt;54 -->\n<g id=\"edge54\" class=\"edge\">\n<title>44&#45;&gt;54</title>\n<path fill=\"none\" stroke=\"#000000\" d=\"M1710.3247,-119.1189C1758.2913,-102.3614 1816.5041,-82.0242 1861.3081,-66.3715\"/>\n<polygon fill=\"#000000\" stroke=\"#000000\" points=\"1862.6586,-69.6072 1870.9447,-63.0049 1860.3499,-62.9989 1862.6586,-69.6072\"/>\n</g>\n<!-- 46 -->\n<g id=\"node47\" class=\"node\">\n<title>46</title>\n<path fill=\"#efb388\" stroke=\"#000000\" d=\"M2271,-201.5C2271,-201.5 2116,-201.5 2116,-201.5 2110,-201.5 2104,-195.5 2104,-189.5 2104,-189.5 2104,-115.5 2104,-115.5 2104,-109.5 2110,-103.5 2116,-103.5 2116,-103.5 2271,-103.5 2271,-103.5 2277,-103.5 2283,-109.5 2283,-115.5 2283,-115.5 2283,-189.5 2283,-189.5 2283,-195.5 2277,-201.5 2271,-201.5\"/>\n<text text-anchor=\"start\" x=\"2162.5\" y=\"-186.3\" font-family=\"Helvetica,sans-Serif\" font-size=\"14.00\" fill=\"#000000\">node #46</text>\n<text text-anchor=\"start\" x=\"2112\" y=\"-171.3\" font-family=\"Helvetica,sans-Serif\" font-size=\"14.00\" fill=\"#000000\">munro microabcess ≤ 1.5</text>\n<text text-anchor=\"start\" x=\"2142.5\" y=\"-156.3\" font-family=\"Helvetica,sans-Serif\" font-size=\"14.00\" fill=\"#000000\">entropy = 0.863</text>\n<text text-anchor=\"start\" x=\"2141.5\" y=\"-141.3\" font-family=\"Helvetica,sans-Serif\" font-size=\"14.00\" fill=\"#000000\">samples = 5.5%</text>\n<text text-anchor=\"start\" x=\"2123.5\" y=\"-126.3\" font-family=\"Helvetica,sans-Serif\" font-size=\"14.00\" fill=\"#000000\">value = [0.714, 0.286]</text>\n<text text-anchor=\"start\" x=\"2164.5\" y=\"-111.3\" font-family=\"Helvetica,sans-Serif\" font-size=\"14.00\" fill=\"#000000\">class = 0</text>\n</g>\n<!-- 45&#45;&gt;46 -->\n<g id=\"edge46\" class=\"edge\">\n<title>45&#45;&gt;46</title>\n<path fill=\"none\" stroke=\"#000000\" d=\"M2050.7816,-151.4064C2065.1081,-151.5162 2079.6328,-151.6275 2093.6568,-151.7349\"/>\n<polygon fill=\"#000000\" stroke=\"#000000\" points=\"2093.7434,-155.2356 2103.7699,-151.8124 2093.7971,-148.2358 2093.7434,-155.2356\"/>\n</g>\n<!-- 53 -->\n<g id=\"node54\" class=\"node\">\n<title>53</title>\n<path fill=\"#399de5\" stroke=\"#000000\" d=\"M2243,-85C2243,-85 2144,-85 2144,-85 2138,-85 2132,-79 2132,-73 2132,-73 2132,-14 2132,-14 2132,-8 2138,-2 2144,-2 2144,-2 2243,-2 2243,-2 2249,-2 2255,-8 2255,-14 2255,-14 2255,-73 2255,-73 2255,-79 2249,-85 2243,-85\"/>\n<text text-anchor=\"start\" x=\"2162.5\" y=\"-69.8\" font-family=\"Helvetica,sans-Serif\" font-size=\"14.00\" fill=\"#000000\">node #53</text>\n<text text-anchor=\"start\" x=\"2151\" y=\"-54.8\" font-family=\"Helvetica,sans-Serif\" font-size=\"14.00\" fill=\"#000000\">entropy = 0.0</text>\n<text text-anchor=\"start\" x=\"2141.5\" y=\"-39.8\" font-family=\"Helvetica,sans-Serif\" font-size=\"14.00\" fill=\"#000000\">samples = 1.2%</text>\n<text text-anchor=\"start\" x=\"2140\" y=\"-24.8\" font-family=\"Helvetica,sans-Serif\" font-size=\"14.00\" fill=\"#000000\">value = [0.0, 1.0]</text>\n<text text-anchor=\"start\" x=\"2164.5\" y=\"-9.8\" font-family=\"Helvetica,sans-Serif\" font-size=\"14.00\" fill=\"#000000\">class = 1</text>\n</g>\n<!-- 45&#45;&gt;53 -->\n<g id=\"edge53\" class=\"edge\">\n<title>45&#45;&gt;53</title>\n<path fill=\"none\" stroke=\"#000000\" d=\"M2050.7816,-102.0091C2075.3293,-91.9455 2100.4587,-81.6434 2122.6545,-72.5439\"/>\n<polygon fill=\"#000000\" stroke=\"#000000\" points=\"2124.0521,-75.7537 2131.9771,-68.722 2121.3968,-69.2769 2124.0521,-75.7537\"/>\n</g>\n<!-- 47 -->\n<g id=\"node48\" class=\"node\">\n<title>47</title>\n<path fill=\"#f6d5bd\" stroke=\"#000000\" d=\"M2440,-255.5C2440,-255.5 2331,-255.5 2331,-255.5 2325,-255.5 2319,-249.5 2319,-243.5 2319,-243.5 2319,-169.5 2319,-169.5 2319,-163.5 2325,-157.5 2331,-157.5 2331,-157.5 2440,-157.5 2440,-157.5 2446,-157.5 2452,-163.5 2452,-169.5 2452,-169.5 2452,-243.5 2452,-243.5 2452,-249.5 2446,-255.5 2440,-255.5\"/>\n<text text-anchor=\"start\" x=\"2354.5\" y=\"-240.3\" font-family=\"Helvetica,sans-Serif\" font-size=\"14.00\" fill=\"#000000\">node #47</text>\n<text text-anchor=\"start\" x=\"2327\" y=\"-225.3\" font-family=\"Helvetica,sans-Serif\" font-size=\"14.00\" fill=\"#000000\">PNL infiltrate ≤ 0.5</text>\n<text text-anchor=\"start\" x=\"2334.5\" y=\"-210.3\" font-family=\"Helvetica,sans-Serif\" font-size=\"14.00\" fill=\"#000000\">entropy = 0.971</text>\n<text text-anchor=\"start\" x=\"2333.5\" y=\"-195.3\" font-family=\"Helvetica,sans-Serif\" font-size=\"14.00\" fill=\"#000000\">samples = 3.9%</text>\n<text text-anchor=\"start\" x=\"2332\" y=\"-180.3\" font-family=\"Helvetica,sans-Serif\" font-size=\"14.00\" fill=\"#000000\">value = [0.6, 0.4]</text>\n<text text-anchor=\"start\" x=\"2356.5\" y=\"-165.3\" font-family=\"Helvetica,sans-Serif\" font-size=\"14.00\" fill=\"#000000\">class = 0</text>\n</g>\n<!-- 46&#45;&gt;47 -->\n<g id=\"edge47\" class=\"edge\">\n<title>46&#45;&gt;47</title>\n<path fill=\"none\" stroke=\"#000000\" d=\"M2283.0356,-177.6819C2291.6785,-180.1127 2300.3916,-182.5633 2308.893,-184.9543\"/>\n<polygon fill=\"#000000\" stroke=\"#000000\" points=\"2308.1846,-188.3908 2318.7588,-187.729 2310.0799,-181.6522 2308.1846,-188.3908\"/>\n</g>\n<!-- 52 -->\n<g id=\"node53\" class=\"node\">\n<title>52</title>\n<path fill=\"#e58139\" stroke=\"#000000\" d=\"M2435,-139C2435,-139 2336,-139 2336,-139 2330,-139 2324,-133 2324,-127 2324,-127 2324,-68 2324,-68 2324,-62 2330,-56 2336,-56 2336,-56 2435,-56 2435,-56 2441,-56 2447,-62 2447,-68 2447,-68 2447,-127 2447,-127 2447,-133 2441,-139 2435,-139\"/>\n<text text-anchor=\"start\" x=\"2354.5\" y=\"-123.8\" font-family=\"Helvetica,sans-Serif\" font-size=\"14.00\" fill=\"#000000\">node #52</text>\n<text text-anchor=\"start\" x=\"2343\" y=\"-108.8\" font-family=\"Helvetica,sans-Serif\" font-size=\"14.00\" fill=\"#000000\">entropy = 0.0</text>\n<text text-anchor=\"start\" x=\"2333.5\" y=\"-93.8\" font-family=\"Helvetica,sans-Serif\" font-size=\"14.00\" fill=\"#000000\">samples = 1.6%</text>\n<text text-anchor=\"start\" x=\"2332\" y=\"-78.8\" font-family=\"Helvetica,sans-Serif\" font-size=\"14.00\" fill=\"#000000\">value = [1.0, 0.0]</text>\n<text text-anchor=\"start\" x=\"2356.5\" y=\"-63.8\" font-family=\"Helvetica,sans-Serif\" font-size=\"14.00\" fill=\"#000000\">class = 0</text>\n</g>\n<!-- 46&#45;&gt;52 -->\n<g id=\"edge52\" class=\"edge\">\n<title>46&#45;&gt;52</title>\n<path fill=\"none\" stroke=\"#000000\" d=\"M2283.0356,-126.8518C2293.3741,-123.8902 2303.8131,-120.8999 2313.8699,-118.019\"/>\n<polygon fill=\"#000000\" stroke=\"#000000\" points=\"2315.1321,-121.2983 2323.7815,-115.1798 2313.2043,-114.569 2315.1321,-121.2983\"/>\n</g>\n<!-- 48 -->\n<g id=\"node49\" class=\"node\">\n<title>48</title>\n<path fill=\"#e9965a\" stroke=\"#000000\" d=\"M2632,-310.5C2632,-310.5 2500,-310.5 2500,-310.5 2494,-310.5 2488,-304.5 2488,-298.5 2488,-298.5 2488,-224.5 2488,-224.5 2488,-218.5 2494,-212.5 2500,-212.5 2500,-212.5 2632,-212.5 2632,-212.5 2638,-212.5 2644,-218.5 2644,-224.5 2644,-224.5 2644,-298.5 2644,-298.5 2644,-304.5 2638,-310.5 2632,-310.5\"/>\n<text text-anchor=\"start\" x=\"2535\" y=\"-295.3\" font-family=\"Helvetica,sans-Serif\" font-size=\"14.00\" fill=\"#000000\">node #48</text>\n<text text-anchor=\"start\" x=\"2517.5\" y=\"-280.3\" font-family=\"Helvetica,sans-Serif\" font-size=\"14.00\" fill=\"#000000\">erythema ≤ 2.5</text>\n<text text-anchor=\"start\" x=\"2515\" y=\"-265.3\" font-family=\"Helvetica,sans-Serif\" font-size=\"14.00\" fill=\"#000000\">entropy = 0.592</text>\n<text text-anchor=\"start\" x=\"2514\" y=\"-250.3\" font-family=\"Helvetica,sans-Serif\" font-size=\"14.00\" fill=\"#000000\">samples = 2.7%</text>\n<text text-anchor=\"start\" x=\"2496\" y=\"-235.3\" font-family=\"Helvetica,sans-Serif\" font-size=\"14.00\" fill=\"#000000\">value = [0.857, 0.143]</text>\n<text text-anchor=\"start\" x=\"2537\" y=\"-220.3\" font-family=\"Helvetica,sans-Serif\" font-size=\"14.00\" fill=\"#000000\">class = 0</text>\n</g>\n<!-- 47&#45;&gt;48 -->\n<g id=\"edge48\" class=\"edge\">\n<title>47&#45;&gt;48</title>\n<path fill=\"none\" stroke=\"#000000\" d=\"M2452.1987,-226.8237C2460.6627,-229.4028 2469.4238,-232.0723 2478.1549,-234.7328\"/>\n<polygon fill=\"#000000\" stroke=\"#000000\" points=\"2477.3963,-238.1605 2487.9823,-237.7273 2479.4367,-231.4644 2477.3963,-238.1605\"/>\n</g>\n<!-- 51 -->\n<g id=\"node52\" class=\"node\">\n<title>51</title>\n<path fill=\"#399de5\" stroke=\"#000000\" d=\"M2615.5,-194C2615.5,-194 2516.5,-194 2516.5,-194 2510.5,-194 2504.5,-188 2504.5,-182 2504.5,-182 2504.5,-123 2504.5,-123 2504.5,-117 2510.5,-111 2516.5,-111 2516.5,-111 2615.5,-111 2615.5,-111 2621.5,-111 2627.5,-117 2627.5,-123 2627.5,-123 2627.5,-182 2627.5,-182 2627.5,-188 2621.5,-194 2615.5,-194\"/>\n<text text-anchor=\"start\" x=\"2535\" y=\"-178.8\" font-family=\"Helvetica,sans-Serif\" font-size=\"14.00\" fill=\"#000000\">node #51</text>\n<text text-anchor=\"start\" x=\"2523.5\" y=\"-163.8\" font-family=\"Helvetica,sans-Serif\" font-size=\"14.00\" fill=\"#000000\">entropy = 0.0</text>\n<text text-anchor=\"start\" x=\"2514\" y=\"-148.8\" font-family=\"Helvetica,sans-Serif\" font-size=\"14.00\" fill=\"#000000\">samples = 1.2%</text>\n<text text-anchor=\"start\" x=\"2512.5\" y=\"-133.8\" font-family=\"Helvetica,sans-Serif\" font-size=\"14.00\" fill=\"#000000\">value = [0.0, 1.0]</text>\n<text text-anchor=\"start\" x=\"2537\" y=\"-118.8\" font-family=\"Helvetica,sans-Serif\" font-size=\"14.00\" fill=\"#000000\">class = 1</text>\n</g>\n<!-- 47&#45;&gt;51 -->\n<g id=\"edge51\" class=\"edge\">\n<title>47&#45;&gt;51</title>\n<path fill=\"none\" stroke=\"#000000\" d=\"M2452.1987,-186.5458C2466.0699,-182.396 2480.7393,-178.0074 2494.7665,-173.8108\"/>\n<polygon fill=\"#000000\" stroke=\"#000000\" points=\"2495.7802,-177.161 2504.3574,-170.9415 2493.7738,-170.4546 2495.7802,-177.161\"/>\n</g>\n<!-- 49 -->\n<g id=\"node50\" class=\"node\">\n<title>49</title>\n<path fill=\"#e58139\" stroke=\"#000000\" d=\"M2791,-353C2791,-353 2692,-353 2692,-353 2686,-353 2680,-347 2680,-341 2680,-341 2680,-282 2680,-282 2680,-276 2686,-270 2692,-270 2692,-270 2791,-270 2791,-270 2797,-270 2803,-276 2803,-282 2803,-282 2803,-341 2803,-341 2803,-347 2797,-353 2791,-353\"/>\n<text text-anchor=\"start\" x=\"2710.5\" y=\"-337.8\" font-family=\"Helvetica,sans-Serif\" font-size=\"14.00\" fill=\"#000000\">node #49</text>\n<text text-anchor=\"start\" x=\"2699\" y=\"-322.8\" font-family=\"Helvetica,sans-Serif\" font-size=\"14.00\" fill=\"#000000\">entropy = 0.0</text>\n<text text-anchor=\"start\" x=\"2689.5\" y=\"-307.8\" font-family=\"Helvetica,sans-Serif\" font-size=\"14.00\" fill=\"#000000\">samples = 2.3%</text>\n<text text-anchor=\"start\" x=\"2688\" y=\"-292.8\" font-family=\"Helvetica,sans-Serif\" font-size=\"14.00\" fill=\"#000000\">value = [1.0, 0.0]</text>\n<text text-anchor=\"start\" x=\"2712.5\" y=\"-277.8\" font-family=\"Helvetica,sans-Serif\" font-size=\"14.00\" fill=\"#000000\">class = 0</text>\n</g>\n<!-- 48&#45;&gt;49 -->\n<g id=\"edge49\" class=\"edge\">\n<title>48&#45;&gt;49</title>\n<path fill=\"none\" stroke=\"#000000\" d=\"M2644.2546,-283.7948C2652.8611,-286.2467 2661.5908,-288.7338 2670.1074,-291.1602\"/>\n<polygon fill=\"#000000\" stroke=\"#000000\" points=\"2669.4108,-294.601 2679.9872,-293.975 2671.3289,-287.8689 2669.4108,-294.601\"/>\n</g>\n<!-- 50 -->\n<g id=\"node51\" class=\"node\">\n<title>50</title>\n<path fill=\"#399de5\" stroke=\"#000000\" d=\"M2791,-252C2791,-252 2692,-252 2692,-252 2686,-252 2680,-246 2680,-240 2680,-240 2680,-181 2680,-181 2680,-175 2686,-169 2692,-169 2692,-169 2791,-169 2791,-169 2797,-169 2803,-175 2803,-181 2803,-181 2803,-240 2803,-240 2803,-246 2797,-252 2791,-252\"/>\n<text text-anchor=\"start\" x=\"2710.5\" y=\"-236.8\" font-family=\"Helvetica,sans-Serif\" font-size=\"14.00\" fill=\"#000000\">node #50</text>\n<text text-anchor=\"start\" x=\"2699\" y=\"-221.8\" font-family=\"Helvetica,sans-Serif\" font-size=\"14.00\" fill=\"#000000\">entropy = 0.0</text>\n<text text-anchor=\"start\" x=\"2689.5\" y=\"-206.8\" font-family=\"Helvetica,sans-Serif\" font-size=\"14.00\" fill=\"#000000\">samples = 0.4%</text>\n<text text-anchor=\"start\" x=\"2688\" y=\"-191.8\" font-family=\"Helvetica,sans-Serif\" font-size=\"14.00\" fill=\"#000000\">value = [0.0, 1.0]</text>\n<text text-anchor=\"start\" x=\"2712.5\" y=\"-176.8\" font-family=\"Helvetica,sans-Serif\" font-size=\"14.00\" fill=\"#000000\">class = 1</text>\n</g>\n<!-- 48&#45;&gt;50 -->\n<g id=\"edge50\" class=\"edge\">\n<title>48&#45;&gt;50</title>\n<path fill=\"none\" stroke=\"#000000\" d=\"M2644.2546,-238.7593C2652.8611,-236.2583 2661.5908,-233.7215 2670.1074,-231.2466\"/>\n<polygon fill=\"#000000\" stroke=\"#000000\" points=\"2671.3611,-234.5271 2679.9872,-228.3755 2669.4077,-227.8052 2671.3611,-234.5271\"/>\n</g>\n</g>\n</svg>\n"
          },
          "metadata": {},
          "execution_count": 61
        }
      ]
    }
  ]
}